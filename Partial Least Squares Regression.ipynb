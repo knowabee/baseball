{
 "cells": [
  {
   "cell_type": "markdown",
   "id": "f13a79ad",
   "metadata": {},
   "source": [
    "## Standard libraries"
   ]
  },
  {
   "cell_type": "code",
   "execution_count": 4,
   "id": "590e629d",
   "metadata": {},
   "outputs": [],
   "source": [
    "import pandas as pd\n",
    "import numpy as np\n",
    "import matplotlib.pyplot as plt"
   ]
  },
  {
   "cell_type": "markdown",
   "id": "f39c8c15",
   "metadata": {},
   "source": [
    "## Import data"
   ]
  },
  {
   "cell_type": "code",
   "execution_count": 3,
   "id": "db94c74e",
   "metadata": {},
   "outputs": [
    {
     "data": {
      "text/html": [
       "<div>\n",
       "<style scoped>\n",
       "    .dataframe tbody tr th:only-of-type {\n",
       "        vertical-align: middle;\n",
       "    }\n",
       "\n",
       "    .dataframe tbody tr th {\n",
       "        vertical-align: top;\n",
       "    }\n",
       "\n",
       "    .dataframe thead th {\n",
       "        text-align: right;\n",
       "    }\n",
       "</style>\n",
       "<table border=\"1\" class=\"dataframe\">\n",
       "  <thead>\n",
       "    <tr style=\"text-align: right;\">\n",
       "      <th></th>\n",
       "      <th>date</th>\n",
       "      <th>game_num</th>\n",
       "      <th>day_of_week</th>\n",
       "      <th>away_team</th>\n",
       "      <th>away_league</th>\n",
       "      <th>away_game_num</th>\n",
       "      <th>home_team</th>\n",
       "      <th>home_league</th>\n",
       "      <th>home_game_num</th>\n",
       "      <th>away_score</th>\n",
       "      <th>...</th>\n",
       "      <th>home_7_name</th>\n",
       "      <th>home_7_pos</th>\n",
       "      <th>home_8_id</th>\n",
       "      <th>home_8_name</th>\n",
       "      <th>home_8_pos</th>\n",
       "      <th>home_9_id</th>\n",
       "      <th>home_9_name</th>\n",
       "      <th>home_9_pos</th>\n",
       "      <th>additional_info</th>\n",
       "      <th>acquisition_info</th>\n",
       "    </tr>\n",
       "  </thead>\n",
       "  <tbody>\n",
       "    <tr>\n",
       "      <th>0</th>\n",
       "      <td>18710504</td>\n",
       "      <td>0</td>\n",
       "      <td>Thu</td>\n",
       "      <td>CL1</td>\n",
       "      <td>NaN</td>\n",
       "      <td>1</td>\n",
       "      <td>FW1</td>\n",
       "      <td>NaN</td>\n",
       "      <td>1</td>\n",
       "      <td>0</td>\n",
       "      <td>...</td>\n",
       "      <td>Ed Mincher</td>\n",
       "      <td>7.0</td>\n",
       "      <td>mcdej101</td>\n",
       "      <td>James McDermott</td>\n",
       "      <td>8.0</td>\n",
       "      <td>kellb105</td>\n",
       "      <td>Bill Kelly</td>\n",
       "      <td>9.0</td>\n",
       "      <td>NaN</td>\n",
       "      <td>D</td>\n",
       "    </tr>\n",
       "    <tr>\n",
       "      <th>1</th>\n",
       "      <td>18710505</td>\n",
       "      <td>0</td>\n",
       "      <td>Fri</td>\n",
       "      <td>BS1</td>\n",
       "      <td>NaN</td>\n",
       "      <td>1</td>\n",
       "      <td>WS3</td>\n",
       "      <td>NaN</td>\n",
       "      <td>1</td>\n",
       "      <td>20</td>\n",
       "      <td>...</td>\n",
       "      <td>Asa Brainard</td>\n",
       "      <td>1.0</td>\n",
       "      <td>burrh101</td>\n",
       "      <td>Henry Burroughs</td>\n",
       "      <td>9.0</td>\n",
       "      <td>berth101</td>\n",
       "      <td>Henry Berthrong</td>\n",
       "      <td>8.0</td>\n",
       "      <td>HTBF</td>\n",
       "      <td>D</td>\n",
       "    </tr>\n",
       "    <tr>\n",
       "      <th>2</th>\n",
       "      <td>18710506</td>\n",
       "      <td>0</td>\n",
       "      <td>Sat</td>\n",
       "      <td>CL1</td>\n",
       "      <td>NaN</td>\n",
       "      <td>2</td>\n",
       "      <td>RC1</td>\n",
       "      <td>NaN</td>\n",
       "      <td>1</td>\n",
       "      <td>12</td>\n",
       "      <td>...</td>\n",
       "      <td>Pony Sager</td>\n",
       "      <td>6.0</td>\n",
       "      <td>birdg101</td>\n",
       "      <td>George Bird</td>\n",
       "      <td>7.0</td>\n",
       "      <td>stirg101</td>\n",
       "      <td>Gat Stires</td>\n",
       "      <td>9.0</td>\n",
       "      <td>NaN</td>\n",
       "      <td>D</td>\n",
       "    </tr>\n",
       "    <tr>\n",
       "      <th>3</th>\n",
       "      <td>18710508</td>\n",
       "      <td>0</td>\n",
       "      <td>Mon</td>\n",
       "      <td>CL1</td>\n",
       "      <td>NaN</td>\n",
       "      <td>3</td>\n",
       "      <td>CH1</td>\n",
       "      <td>NaN</td>\n",
       "      <td>1</td>\n",
       "      <td>12</td>\n",
       "      <td>...</td>\n",
       "      <td>Ed Duffy</td>\n",
       "      <td>6.0</td>\n",
       "      <td>pinke101</td>\n",
       "      <td>Ed Pinkham</td>\n",
       "      <td>5.0</td>\n",
       "      <td>zettg101</td>\n",
       "      <td>George Zettlein</td>\n",
       "      <td>1.0</td>\n",
       "      <td>NaN</td>\n",
       "      <td>D</td>\n",
       "    </tr>\n",
       "    <tr>\n",
       "      <th>4</th>\n",
       "      <td>18710509</td>\n",
       "      <td>0</td>\n",
       "      <td>Tue</td>\n",
       "      <td>BS1</td>\n",
       "      <td>NaN</td>\n",
       "      <td>2</td>\n",
       "      <td>TRO</td>\n",
       "      <td>NaN</td>\n",
       "      <td>1</td>\n",
       "      <td>9</td>\n",
       "      <td>...</td>\n",
       "      <td>Steve Bellan</td>\n",
       "      <td>5.0</td>\n",
       "      <td>pikel101</td>\n",
       "      <td>Lip Pike</td>\n",
       "      <td>3.0</td>\n",
       "      <td>cravb101</td>\n",
       "      <td>Bill Craver</td>\n",
       "      <td>6.0</td>\n",
       "      <td>HTBF</td>\n",
       "      <td>D</td>\n",
       "    </tr>\n",
       "  </tbody>\n",
       "</table>\n",
       "<p>5 rows × 161 columns</p>\n",
       "</div>"
      ],
      "text/plain": [
       "       date  game_num day_of_week away_team away_league  away_game_num  \\\n",
       "0  18710504         0         Thu       CL1         NaN              1   \n",
       "1  18710505         0         Fri       BS1         NaN              1   \n",
       "2  18710506         0         Sat       CL1         NaN              2   \n",
       "3  18710508         0         Mon       CL1         NaN              3   \n",
       "4  18710509         0         Tue       BS1         NaN              2   \n",
       "\n",
       "  home_team home_league  home_game_num  away_score  ...   home_7_name  \\\n",
       "0       FW1         NaN              1           0  ...    Ed Mincher   \n",
       "1       WS3         NaN              1          20  ...  Asa Brainard   \n",
       "2       RC1         NaN              1          12  ...    Pony Sager   \n",
       "3       CH1         NaN              1          12  ...      Ed Duffy   \n",
       "4       TRO         NaN              1           9  ...  Steve Bellan   \n",
       "\n",
       "   home_7_pos home_8_id      home_8_name home_8_pos home_9_id  \\\n",
       "0         7.0  mcdej101  James McDermott        8.0  kellb105   \n",
       "1         1.0  burrh101  Henry Burroughs        9.0  berth101   \n",
       "2         6.0  birdg101      George Bird        7.0  stirg101   \n",
       "3         6.0  pinke101       Ed Pinkham        5.0  zettg101   \n",
       "4         5.0  pikel101         Lip Pike        3.0  cravb101   \n",
       "\n",
       "       home_9_name  home_9_pos  additional_info acquisition_info  \n",
       "0       Bill Kelly         9.0              NaN                D  \n",
       "1  Henry Berthrong         8.0             HTBF                D  \n",
       "2       Gat Stires         9.0              NaN                D  \n",
       "3  George Zettlein         1.0              NaN                D  \n",
       "4      Bill Craver         6.0             HTBF                D  \n",
       "\n",
       "[5 rows x 161 columns]"
      ]
     },
     "execution_count": 3,
     "metadata": {},
     "output_type": "execute_result"
    }
   ],
   "source": [
    "# This is the full dataset \n",
    "full_data = pd.read_excel(\"C:/Users/bodin/School/STAT 5001/project/baseballdata.xlsx\")\n",
    "full_data.head()"
   ]
  },
  {
   "cell_type": "markdown",
   "id": "952b467c",
   "metadata": {},
   "source": [
    "## Manipulate data"
   ]
  },
  {
   "cell_type": "code",
   "execution_count": 5,
   "id": "6d47d2ba",
   "metadata": {},
   "outputs": [],
   "source": [
    "# Reduce data to include only games from the year 2000+\n",
    "data_reduced = full_data[full_data['date'] > 20000101]     #yyyymmdd\n",
    "\n",
    "# Only include variables specified in write-up\n",
    "data = data_reduced[['away_AB', 'away_H', 'away_2B', 'away_3B',\n",
    "             'away_HR', 'away_SH', 'away_SF', 'away_HBP', \n",
    "             'away_BB', 'away_IBB', 'away_K', 'away_SB', 'away_CS', \n",
    "             'away_GIDP', 'away_CI', 'away_score', \n",
    "             'home_AB', 'home_H', 'home_2B', 'home_3B', \n",
    "             'home_HR', 'home_SH', 'home_SF', 'home_HBP', \n",
    "             'home_BB', 'home_IBB', 'home_K', 'home_SB', 'home_CS', \n",
    "             'home_GIDP', 'home_CI', 'home_score']]"
   ]
  },
  {
   "cell_type": "code",
   "execution_count": 6,
   "id": "08478ca3",
   "metadata": {},
   "outputs": [],
   "source": [
    "# Ensure no 'na' values\n",
    "data = data.dropna()\n",
    "\n",
    "# Add singles column as specified in our write-up\n",
    "data['away_1B'] = data['away_H'] - data['away_2B'] - data['away_3B'] - data['away_HR']\n",
    "data['home_1B'] = data['home_H'] - data['home_2B'] - data['home_3B'] - data['home_HR']"
   ]
  },
  {
   "cell_type": "code",
   "execution_count": 7,
   "id": "e4b4555d",
   "metadata": {},
   "outputs": [],
   "source": [
    "# Combine away and home data columns\n",
    "data2 = pd.DataFrame()\n",
    "\n",
    "data2['AB'] = pd.concat([data['away_AB'], data['home_AB']], ignore_index=True)\n",
    "data2['H'] = pd.concat([data['away_H'], data['home_H']], ignore_index=True)\n",
    "data2['1B'] = pd.concat([data['away_1B'], data['home_1B']], ignore_index=True)\n",
    "data2['2B'] = pd.concat([data['away_2B'], data['home_2B']], ignore_index=True)\n",
    "data2['3B'] = pd.concat([data['away_3B'], data['home_3B']], ignore_index=True)\n",
    "data2['HR'] = pd.concat([data['away_HR'], data['home_HR']], ignore_index=True)\n",
    "data2['SH'] = pd.concat([data['away_SH'], data['home_SH']], ignore_index=True)\n",
    "data2['SF'] = pd.concat([data['away_SF'], data['home_SF']], ignore_index=True)\n",
    "data2['HBP'] = pd.concat([data['away_HBP'], data['home_HBP']], ignore_index=True)\n",
    "data2['BB'] = pd.concat([data['away_BB'], data['home_BB']], ignore_index=True)\n",
    "data2['IBB'] = pd.concat([data['away_IBB'], data['home_IBB']], ignore_index=True)\n",
    "data2['K'] = pd.concat([data['away_K'], data['home_K']], ignore_index=True)\n",
    "data2['SB'] = pd.concat([data['away_SB'], data['home_SB']], ignore_index=True)\n",
    "data2['CS'] = pd.concat([data['away_CS'], data['home_CS']], ignore_index=True)\n",
    "data2['GIDP'] = pd.concat([data['away_GIDP'], data['home_GIDP']], ignore_index=True)\n",
    "data2['CI'] = pd.concat([data['away_CI'], data['home_CI']], ignore_index=True)\n",
    "data2['SCORE'] = pd.concat([data['away_score'], data['home_score']], ignore_index=True)"
   ]
  },
  {
   "cell_type": "code",
   "execution_count": 8,
   "id": "2faa8d57",
   "metadata": {},
   "outputs": [],
   "source": [
    "# Split into input and output variables\n",
    "X = data2.drop('SCORE', axis=1)\n",
    "y = data2['SCORE']"
   ]
  },
  {
   "cell_type": "code",
   "execution_count": 9,
   "id": "2c1a86f2",
   "metadata": {},
   "outputs": [],
   "source": [
    "# Split data into training and test sets\n",
    "from sklearn.model_selection import train_test_split\n",
    "np.random.seed(42)\n",
    "\n",
    "X_train, X_test, y_train, y_test = train_test_split(X, y, test_size=0.2)"
   ]
  },
  {
   "cell_type": "code",
   "execution_count": 10,
   "id": "921f8e04",
   "metadata": {},
   "outputs": [],
   "source": [
    "# Standardize data\n",
    "from sklearn.preprocessing import StandardScaler\n",
    "scaler = StandardScaler()\n",
    "X_train_scaled = scaler.fit_transform(X_train)\n",
    "X_test_scaled = scaler.transform(X_test)"
   ]
  },
  {
   "cell_type": "markdown",
   "id": "b5f79357",
   "metadata": {},
   "source": [
    "## Perform PLS regression"
   ]
  },
  {
   "cell_type": "code",
   "execution_count": 12,
   "id": "8d3ed08a",
   "metadata": {},
   "outputs": [],
   "source": [
    "# Initialize model\n",
    "from sklearn.cross_decomposition import PLSRegression\n",
    "n = 2     # number of components\n",
    "pls_model = PLSRegression(n_components=n)"
   ]
  },
  {
   "cell_type": "code",
   "execution_count": 15,
   "id": "4f59569e",
   "metadata": {},
   "outputs": [],
   "source": [
    "# Train model\n",
    "pls_model.fit(X_train, y_train);"
   ]
  },
  {
   "cell_type": "code",
   "execution_count": 17,
   "id": "054c6b6d",
   "metadata": {},
   "outputs": [],
   "source": [
    "# Make predictions\n",
    "y_pred = pls_model.predict(X_test)"
   ]
  },
  {
   "cell_type": "code",
   "execution_count": 19,
   "id": "f79aca42",
   "metadata": {},
   "outputs": [
    {
     "name": "stdout",
     "output_type": "stream",
     "text": [
      "MSE: 2.436850688824778\n",
      "Score: -4.57093779576021\n"
     ]
    },
    {
     "name": "stderr",
     "output_type": "stream",
     "text": [
      "C:\\Users\\bodin\\anaconda3\\lib\\site-packages\\sklearn\\base.py:420: UserWarning: X does not have valid feature names, but PLSRegression was fitted with feature names\n",
      "  warnings.warn(\n"
     ]
    }
   ],
   "source": [
    "# Evaluate model\n",
    "from sklearn.metrics import mean_squared_error, accuracy_score\n",
    "mse = mean_squared_error(y_test, y_pred)\n",
    "score = pls_model.score(X_test_scaled, y_test)     #r-squared\n",
    "print(f\"MSE: {mse}\")\n",
    "print(f\"Score: {score}\")"
   ]
  },
  {
   "cell_type": "code",
   "execution_count": 20,
   "id": "c3c81320",
   "metadata": {},
   "outputs": [
    {
     "data": {
      "image/png": "[encoded data removed]",
      "text/plain": [
       "<Figure size 640x480 with 1 Axes>"
      ]
     },
     "metadata": {},
     "output_type": "display_data"
    }
   ],
   "source": [
    "# Plot predicted vs actual values\n",
    "plt.scatter(y_test, y_pred)\n",
    "plt.xlabel('Actual Values')\n",
    "plt.ylabel('Predicted Values')\n",
    "plt.title('PLS Regression: Actual vs Predicted Values')\n",
    "plt.show()"
   ]
  },
  {
   "cell_type": "code",
   "execution_count": null,
   "id": "c143ade4",
   "metadata": {},
   "outputs": [],
   "source": []
  }
 ],
 "metadata": {
  "kernelspec": {
   "display_name": "Python 3 (ipykernel)",
   "language": "python",
   "name": "python3"
  },
  "language_info": {
   "codemirror_mode": {
    "name": "ipython",
    "version": 3
   },
   "file_extension": ".py",
   "mimetype": "text/x-python",
   "name": "python",
   "nbconvert_exporter": "python",
   "pygments_lexer": "ipython3",
   "version": "3.10.9"
  }
 },
 "nbformat": 4,
 "nbformat_minor": 5
}
