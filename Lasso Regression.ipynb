{
 "cells": [
  {
   "cell_type": "markdown",
   "id": "885c237a",
   "metadata": {},
   "source": [
    "## Standard libraries"
   ]
  },
  {
   "cell_type": "code",
   "execution_count": 1,
   "id": "428dd2d1",
   "metadata": {},
   "outputs": [],
   "source": [
    "import numpy as np\n",
    "import pandas as pd\n",
    "import matplotlib.pyplot as plt"
   ]
  },
  {
   "cell_type": "markdown",
   "id": "4b23deff",
   "metadata": {},
   "source": [
    "## Import data"
   ]
  },
  {
   "cell_type": "code",
   "execution_count": 2,
   "id": "adc26055",
   "metadata": {},
   "outputs": [
    {
     "data": {
      "text/html": [
       "<div>\n",
       "<style scoped>\n",
       "    .dataframe tbody tr th:only-of-type {\n",
       "        vertical-align: middle;\n",
       "    }\n",
       "\n",
       "    .dataframe tbody tr th {\n",
       "        vertical-align: top;\n",
       "    }\n",
       "\n",
       "    .dataframe thead th {\n",
       "        text-align: right;\n",
       "    }\n",
       "</style>\n",
       "<table border=\"1\" class=\"dataframe\">\n",
       "  <thead>\n",
       "    <tr style=\"text-align: right;\">\n",
       "      <th></th>\n",
       "      <th>date</th>\n",
       "      <th>away_score</th>\n",
       "      <th>home_score</th>\n",
       "      <th>away_AB</th>\n",
       "      <th>away_H</th>\n",
       "      <th>away_2B</th>\n",
       "      <th>away_3B</th>\n",
       "      <th>away_HR</th>\n",
       "      <th>away_RBI</th>\n",
       "      <th>away_SH</th>\n",
       "      <th>...</th>\n",
       "      <th>home_SF</th>\n",
       "      <th>home_HBP</th>\n",
       "      <th>home_BB</th>\n",
       "      <th>home_IBB</th>\n",
       "      <th>home_K</th>\n",
       "      <th>home_SB</th>\n",
       "      <th>home_CS</th>\n",
       "      <th>home_GIDP</th>\n",
       "      <th>home_CI</th>\n",
       "      <th>home_LOB</th>\n",
       "    </tr>\n",
       "  </thead>\n",
       "  <tbody>\n",
       "    <tr>\n",
       "      <th>0</th>\n",
       "      <td>20000329</td>\n",
       "      <td>5</td>\n",
       "      <td>3</td>\n",
       "      <td>33</td>\n",
       "      <td>12</td>\n",
       "      <td>1</td>\n",
       "      <td>0</td>\n",
       "      <td>2</td>\n",
       "      <td>5</td>\n",
       "      <td>1</td>\n",
       "      <td>...</td>\n",
       "      <td>1</td>\n",
       "      <td>0</td>\n",
       "      <td>3</td>\n",
       "      <td>0</td>\n",
       "      <td>4</td>\n",
       "      <td>0</td>\n",
       "      <td>0</td>\n",
       "      <td>1</td>\n",
       "      <td>0</td>\n",
       "      <td>8</td>\n",
       "    </tr>\n",
       "    <tr>\n",
       "      <th>1</th>\n",
       "      <td>20000330</td>\n",
       "      <td>5</td>\n",
       "      <td>1</td>\n",
       "      <td>37</td>\n",
       "      <td>6</td>\n",
       "      <td>2</td>\n",
       "      <td>0</td>\n",
       "      <td>1</td>\n",
       "      <td>5</td>\n",
       "      <td>1</td>\n",
       "      <td>...</td>\n",
       "      <td>0</td>\n",
       "      <td>0</td>\n",
       "      <td>6</td>\n",
       "      <td>1</td>\n",
       "      <td>9</td>\n",
       "      <td>0</td>\n",
       "      <td>0</td>\n",
       "      <td>2</td>\n",
       "      <td>0</td>\n",
       "      <td>10</td>\n",
       "    </tr>\n",
       "    <tr>\n",
       "      <th>2</th>\n",
       "      <td>20000403</td>\n",
       "      <td>0</td>\n",
       "      <td>2</td>\n",
       "      <td>31</td>\n",
       "      <td>6</td>\n",
       "      <td>2</td>\n",
       "      <td>0</td>\n",
       "      <td>0</td>\n",
       "      <td>0</td>\n",
       "      <td>1</td>\n",
       "      <td>...</td>\n",
       "      <td>0</td>\n",
       "      <td>1</td>\n",
       "      <td>1</td>\n",
       "      <td>0</td>\n",
       "      <td>6</td>\n",
       "      <td>1</td>\n",
       "      <td>0</td>\n",
       "      <td>1</td>\n",
       "      <td>0</td>\n",
       "      <td>6</td>\n",
       "    </tr>\n",
       "    <tr>\n",
       "      <th>3</th>\n",
       "      <td>20000403</td>\n",
       "      <td>3</td>\n",
       "      <td>3</td>\n",
       "      <td>22</td>\n",
       "      <td>7</td>\n",
       "      <td>1</td>\n",
       "      <td>0</td>\n",
       "      <td>0</td>\n",
       "      <td>2</td>\n",
       "      <td>0</td>\n",
       "      <td>...</td>\n",
       "      <td>0</td>\n",
       "      <td>0</td>\n",
       "      <td>1</td>\n",
       "      <td>0</td>\n",
       "      <td>4</td>\n",
       "      <td>0</td>\n",
       "      <td>0</td>\n",
       "      <td>0</td>\n",
       "      <td>0</td>\n",
       "      <td>2</td>\n",
       "    </tr>\n",
       "    <tr>\n",
       "      <th>4</th>\n",
       "      <td>20000403</td>\n",
       "      <td>4</td>\n",
       "      <td>6</td>\n",
       "      <td>35</td>\n",
       "      <td>10</td>\n",
       "      <td>2</td>\n",
       "      <td>2</td>\n",
       "      <td>1</td>\n",
       "      <td>4</td>\n",
       "      <td>0</td>\n",
       "      <td>...</td>\n",
       "      <td>0</td>\n",
       "      <td>1</td>\n",
       "      <td>1</td>\n",
       "      <td>0</td>\n",
       "      <td>7</td>\n",
       "      <td>1</td>\n",
       "      <td>0</td>\n",
       "      <td>1</td>\n",
       "      <td>0</td>\n",
       "      <td>8</td>\n",
       "    </tr>\n",
       "  </tbody>\n",
       "</table>\n",
       "<p>5 rows × 37 columns</p>\n",
       "</div>"
      ],
      "text/plain": [
       "       date  away_score  home_score  away_AB  away_H  away_2B  away_3B  \\\n",
       "0  20000329           5           3       33      12        1        0   \n",
       "1  20000330           5           1       37       6        2        0   \n",
       "2  20000403           0           2       31       6        2        0   \n",
       "3  20000403           3           3       22       7        1        0   \n",
       "4  20000403           4           6       35      10        2        2   \n",
       "\n",
       "   away_HR  away_RBI  away_SH  ...  home_SF  home_HBP  home_BB  home_IBB  \\\n",
       "0        2         5        1  ...        1         0        3         0   \n",
       "1        1         5        1  ...        0         0        6         1   \n",
       "2        0         0        1  ...        0         1        1         0   \n",
       "3        0         2        0  ...        0         0        1         0   \n",
       "4        1         4        0  ...        0         1        1         0   \n",
       "\n",
       "   home_K  home_SB  home_CS  home_GIDP  home_CI  home_LOB  \n",
       "0       4        0        0          1        0         8  \n",
       "1       9        0        0          2        0        10  \n",
       "2       6        1        0          1        0         6  \n",
       "3       4        0        0          0        0         2  \n",
       "4       7        1        0          1        0         8  \n",
       "\n",
       "[5 rows x 37 columns]"
      ]
     },
     "execution_count": 2,
     "metadata": {},
     "output_type": "execute_result"
    }
   ],
   "source": [
    "# This is the full dataset \n",
    "full_data = pd.read_excel(\"C:/Users/bodin/School/STAT 5001/project/gl_project_dataset.xlsx\")\n",
    "full_data.head()"
   ]
  },
  {
   "cell_type": "code",
   "execution_count": 3,
   "id": "3de21887",
   "metadata": {},
   "outputs": [],
   "source": [
    "# Reduce data to include only games from the year 2000+\n",
    "data_reduced = full_data[full_data['date'] > 20000101]     #yyyymmdd\n",
    "\n",
    "# Only include variables specified in write-up\n",
    "data = data_reduced[['away_AB', 'away_H', 'away_2B', 'away_3B',\n",
    "             'away_HR', 'away_SH', 'away_SF', 'away_HBP', \n",
    "             'away_BB', 'away_IBB', 'away_K', 'away_SB', 'away_CS', \n",
    "             'away_GIDP', 'away_CI', 'away_score', \n",
    "             'home_AB', 'home_H', 'home_2B', 'home_3B', \n",
    "             'home_HR', 'home_SH', 'home_SF', 'home_HBP', \n",
    "             'home_BB', 'home_IBB', 'home_K', 'home_SB', 'home_CS', \n",
    "             'home_GIDP', 'home_CI', 'home_score']]"
   ]
  },
  {
   "cell_type": "code",
   "execution_count": 4,
   "id": "1175c289",
   "metadata": {},
   "outputs": [],
   "source": [
    "# Ensure no 'na' values\n",
    "data = data.dropna()\n",
    "\n",
    "# Add singles column as specified in our write-up\n",
    "data['away_1B'] = data['away_H'] - data['away_2B'] - data['away_3B'] - data['away_HR']\n",
    "data['home_1B'] = data['home_H'] - data['home_2B'] - data['home_3B'] - data['home_HR']"
   ]
  },
  {
   "cell_type": "code",
   "execution_count": 5,
   "id": "8aa9fcd1",
   "metadata": {},
   "outputs": [],
   "source": [
    "# Combine away and home data columns\n",
    "data2 = pd.DataFrame()\n",
    "\n",
    "data2['AB'] = pd.concat([data['away_AB'], data['home_AB']], ignore_index=True)\n",
    "data2['H'] = pd.concat([data['away_H'], data['home_H']], ignore_index=True)\n",
    "data2['1B'] = pd.concat([data['away_1B'], data['home_1B']], ignore_index=True)\n",
    "data2['2B'] = pd.concat([data['away_2B'], data['home_2B']], ignore_index=True)\n",
    "data2['3B'] = pd.concat([data['away_3B'], data['home_3B']], ignore_index=True)\n",
    "data2['HR'] = pd.concat([data['away_HR'], data['home_HR']], ignore_index=True)\n",
    "data2['SH'] = pd.concat([data['away_SH'], data['home_SH']], ignore_index=True)\n",
    "data2['SF'] = pd.concat([data['away_SF'], data['home_SF']], ignore_index=True)\n",
    "data2['HBP'] = pd.concat([data['away_HBP'], data['home_HBP']], ignore_index=True)\n",
    "data2['BB'] = pd.concat([data['away_BB'], data['home_BB']], ignore_index=True)\n",
    "data2['IBB'] = pd.concat([data['away_IBB'], data['home_IBB']], ignore_index=True)\n",
    "data2['K'] = pd.concat([data['away_K'], data['home_K']], ignore_index=True)\n",
    "data2['SB'] = pd.concat([data['away_SB'], data['home_SB']], ignore_index=True)\n",
    "data2['CS'] = pd.concat([data['away_CS'], data['home_CS']], ignore_index=True)\n",
    "data2['GIDP'] = pd.concat([data['away_GIDP'], data['home_GIDP']], ignore_index=True)\n",
    "data2['CI'] = pd.concat([data['away_CI'], data['home_CI']], ignore_index=True)\n",
    "data2['SCORE'] = pd.concat([data['away_score'], data['home_score']], ignore_index=True)"
   ]
  },
  {
   "cell_type": "code",
   "execution_count": 6,
   "id": "ac81a703",
   "metadata": {},
   "outputs": [],
   "source": [
    "# Split into input and output variables\n",
    "X = data2.drop('SCORE', axis=1)\n",
    "y = data2['SCORE']"
   ]
  },
  {
   "cell_type": "code",
   "execution_count": 7,
   "id": "a8fe01fe",
   "metadata": {},
   "outputs": [],
   "source": [
    "# Split data into training and test sets\n",
    "from sklearn.model_selection import train_test_split\n",
    "np.random.seed(42)\n",
    "\n",
    "X_train, X_test, y_train, y_test = train_test_split(X, y, test_size=0.2)"
   ]
  },
  {
   "cell_type": "code",
   "execution_count": 8,
   "id": "f1a793ee",
   "metadata": {},
   "outputs": [],
   "source": [
    "# Standardize data\n",
    "from sklearn.preprocessing import StandardScaler\n",
    "scaler = StandardScaler()\n",
    "X_train_scaled = scaler.fit_transform(X_train)\n",
    "X_test_scaled = scaler.transform(X_test)"
   ]
  },
  {
   "cell_type": "code",
   "execution_count": 27,
   "id": "c008e670",
   "metadata": {},
   "outputs": [],
   "source": [
    "# Initialize Lasso\n",
    "from sklearn.linear_model import Lasso\n",
    "a = 0.001\n",
    "lasso_model = Lasso(alpha = a)"
   ]
  },
  {
   "cell_type": "code",
   "execution_count": 28,
   "id": "9987b192",
   "metadata": {},
   "outputs": [],
   "source": [
    "# Train model\n",
    "lasso_model.fit(X_train_scaled, y_train);"
   ]
  },
  {
   "cell_type": "code",
   "execution_count": 29,
   "id": "9145a311",
   "metadata": {},
   "outputs": [],
   "source": [
    "# Predictions using model\n",
    "y_pred = lasso_model.predict(X_test_scaled)"
   ]
  },
  {
   "cell_type": "code",
   "execution_count": 30,
   "id": "8b6d0fb9",
   "metadata": {},
   "outputs": [
    {
     "name": "stdout",
     "output_type": "stream",
     "text": [
      "MSE: 2.273573255102066\n",
      "Score: 0.7762801640597561\n"
     ]
    }
   ],
   "source": [
    "# Evaluate model\n",
    "from sklearn.metrics import mean_squared_error, accuracy_score\n",
    "mse = mean_squared_error(y_test, y_pred)\n",
    "score = lasso_model.score(X_test_scaled, y_test)     #r-squared\n",
    "print(f\"MSE: {mse}\")\n",
    "print(f\"Score: {score}\")"
   ]
  },
  {
   "cell_type": "code",
   "execution_count": 31,
   "id": "28d8d95f",
   "metadata": {},
   "outputs": [
    {
     "name": "stdout",
     "output_type": "stream",
     "text": [
      "    Feature  Coefficient\n",
      "0         1    -0.413964\n",
      "1         2     1.993855\n",
      "2         3     0.000000\n",
      "3         4     0.346810\n",
      "4         5     0.209442\n",
      "5         6     1.002085\n",
      "6         7    -0.039145\n",
      "7         8     0.263394\n",
      "8         9     0.234061\n",
      "9        10     0.710455\n",
      "10       11    -0.094752\n",
      "11       12    -0.064230\n",
      "12       13     0.052333\n",
      "13       14    -0.165515\n",
      "14       15    -0.327413\n",
      "15       16     0.030305\n"
     ]
    }
   ],
   "source": [
    "# Display coefficients\n",
    "coefficients = pd.DataFrame({'Feature': range(1, X.shape[1] + 1), 'Coefficient': lasso_model.coef_})\n",
    "print(coefficients)"
   ]
  },
  {
   "cell_type": "code",
   "execution_count": 32,
   "id": "a6af39c7",
   "metadata": {},
   "outputs": [
    {
     "data": {
      "image/png": "[encoded data removed]",
      "text/plain": [
       "<Figure size 640x480 with 1 Axes>"
      ]
     },
     "metadata": {},
     "output_type": "display_data"
    }
   ],
   "source": [
    "# Plot predicted vs actual values\n",
    "plt.scatter(y_test, y_pred)\n",
    "plt.xlabel('Actual Values')\n",
    "plt.ylabel('Predicted Values')\n",
    "plt.title('Lasso Regression: Actual vs Predicted Values')\n",
    "plt.show()"
   ]
  },
  {
   "cell_type": "markdown",
   "id": "22a56fb0",
   "metadata": {},
   "source": [
    "### Use cross val to find best model"
   ]
  },
  {
   "cell_type": "code",
   "execution_count": 22,
   "id": "c433e6b6",
   "metadata": {},
   "outputs": [],
   "source": [
    "from sklearn.model_selection import GridSearchCV, KFold\n",
    "\n",
    "lasso_model = Lasso()\n",
    "cv = KFold(n_splits=5, shuffle=True, random_state=42)\n",
    "\n",
    "param_grid = {\n",
    "    'alpha': [.001, .01, .1, 1]\n",
    "}\n",
    "\n",
    "kf = KFold(n_splits=5, shuffle=True, random_state=42)"
   ]
  },
  {
   "cell_type": "code",
   "execution_count": 25,
   "id": "39c3b8e7",
   "metadata": {},
   "outputs": [
    {
     "name": "stderr",
     "output_type": "stream",
     "text": [
      "C:\\Users\\bodin\\anaconda3\\lib\\site-packages\\sklearn\\linear_model\\_coordinate_descent.py:631: ConvergenceWarning: Objective did not converge. You might want to increase the number of iterations, check the scale of the features or consider increasing regularisation. Duality gap: 3.351e+04, tolerance: 1.102e+02\n",
      "  model = cd_fast.enet_coordinate_descent(\n"
     ]
    },
    {
     "data": {
      "text/html": [
       "<style>#sk-container-id-1 {color: black;background-color: white;}#sk-container-id-1 pre{padding: 0;}#sk-container-id-1 div.sk-toggleable {background-color: white;}#sk-container-id-1 label.sk-toggleable__label {cursor: pointer;display: block;width: 100%;margin-bottom: 0;padding: 0.3em;box-sizing: border-box;text-align: center;}#sk-container-id-1 label.sk-toggleable__label-arrow:before {content: \"▸\";float: left;margin-right: 0.25em;color: #696969;}#sk-container-id-1 label.sk-toggleable__label-arrow:hover:before {color: black;}#sk-container-id-1 div.sk-estimator:hover label.sk-toggleable__label-arrow:before {color: black;}#sk-container-id-1 div.sk-toggleable__content {max-height: 0;max-width: 0;overflow: hidden;text-align: left;background-color: #f0f8ff;}#sk-container-id-1 div.sk-toggleable__content pre {margin: 0.2em;color: black;border-radius: 0.25em;background-color: #f0f8ff;}#sk-container-id-1 input.sk-toggleable__control:checked~div.sk-toggleable__content {max-height: 200px;max-width: 100%;overflow: auto;}#sk-container-id-1 input.sk-toggleable__control:checked~label.sk-toggleable__label-arrow:before {content: \"▾\";}#sk-container-id-1 div.sk-estimator input.sk-toggleable__control:checked~label.sk-toggleable__label {background-color: #d4ebff;}#sk-container-id-1 div.sk-label input.sk-toggleable__control:checked~label.sk-toggleable__label {background-color: #d4ebff;}#sk-container-id-1 input.sk-hidden--visually {border: 0;clip: rect(1px 1px 1px 1px);clip: rect(1px, 1px, 1px, 1px);height: 1px;margin: -1px;overflow: hidden;padding: 0;position: absolute;width: 1px;}#sk-container-id-1 div.sk-estimator {font-family: monospace;background-color: #f0f8ff;border: 1px dotted black;border-radius: 0.25em;box-sizing: border-box;margin-bottom: 0.5em;}#sk-container-id-1 div.sk-estimator:hover {background-color: #d4ebff;}#sk-container-id-1 div.sk-parallel-item::after {content: \"\";width: 100%;border-bottom: 1px solid gray;flex-grow: 1;}#sk-container-id-1 div.sk-label:hover label.sk-toggleable__label {background-color: #d4ebff;}#sk-container-id-1 div.sk-serial::before {content: \"\";position: absolute;border-left: 1px solid gray;box-sizing: border-box;top: 0;bottom: 0;left: 50%;z-index: 0;}#sk-container-id-1 div.sk-serial {display: flex;flex-direction: column;align-items: center;background-color: white;padding-right: 0.2em;padding-left: 0.2em;position: relative;}#sk-container-id-1 div.sk-item {position: relative;z-index: 1;}#sk-container-id-1 div.sk-parallel {display: flex;align-items: stretch;justify-content: center;background-color: white;position: relative;}#sk-container-id-1 div.sk-item::before, #sk-container-id-1 div.sk-parallel-item::before {content: \"\";position: absolute;border-left: 1px solid gray;box-sizing: border-box;top: 0;bottom: 0;left: 50%;z-index: -1;}#sk-container-id-1 div.sk-parallel-item {display: flex;flex-direction: column;z-index: 1;position: relative;background-color: white;}#sk-container-id-1 div.sk-parallel-item:first-child::after {align-self: flex-end;width: 50%;}#sk-container-id-1 div.sk-parallel-item:last-child::after {align-self: flex-start;width: 50%;}#sk-container-id-1 div.sk-parallel-item:only-child::after {width: 0;}#sk-container-id-1 div.sk-dashed-wrapped {border: 1px dashed gray;margin: 0 0.4em 0.5em 0.4em;box-sizing: border-box;padding-bottom: 0.4em;background-color: white;}#sk-container-id-1 div.sk-label label {font-family: monospace;font-weight: bold;display: inline-block;line-height: 1.2em;}#sk-container-id-1 div.sk-label-container {text-align: center;}#sk-container-id-1 div.sk-container {/* jupyter's `normalize.less` sets `[hidden] { display: none; }` but bootstrap.min.css set `[hidden] { display: none !important; }` so we also need the `!important` here to be able to override the default hidden behavior on the sphinx rendered scikit-learn.org. See: https://github.com/scikit-learn/scikit-learn/issues/21755 */display: inline-block !important;position: relative;}#sk-container-id-1 div.sk-text-repr-fallback {display: none;}</style><div id=\"sk-container-id-1\" class=\"sk-top-container\"><div class=\"sk-text-repr-fallback\"><pre>GridSearchCV(cv=KFold(n_splits=5, random_state=42, shuffle=True),\n",
       "             estimator=Lasso(), n_jobs=-1,\n",
       "             param_grid={&#x27;alpha&#x27;: [0.001, 0.01, 0.1, 1]})</pre><b>In a Jupyter environment, please rerun this cell to show the HTML representation or trust the notebook. <br />On GitHub, the HTML representation is unable to render, please try loading this page with nbviewer.org.</b></div><div class=\"sk-container\" hidden><div class=\"sk-item sk-dashed-wrapped\"><div class=\"sk-label-container\"><div class=\"sk-label sk-toggleable\"><input class=\"sk-toggleable__control sk-hidden--visually\" id=\"sk-estimator-id-1\" type=\"checkbox\" ><label for=\"sk-estimator-id-1\" class=\"sk-toggleable__label sk-toggleable__label-arrow\">GridSearchCV</label><div class=\"sk-toggleable__content\"><pre>GridSearchCV(cv=KFold(n_splits=5, random_state=42, shuffle=True),\n",
       "             estimator=Lasso(), n_jobs=-1,\n",
       "             param_grid={&#x27;alpha&#x27;: [0.001, 0.01, 0.1, 1]})</pre></div></div></div><div class=\"sk-parallel\"><div class=\"sk-parallel-item\"><div class=\"sk-item\"><div class=\"sk-label-container\"><div class=\"sk-label sk-toggleable\"><input class=\"sk-toggleable__control sk-hidden--visually\" id=\"sk-estimator-id-2\" type=\"checkbox\" ><label for=\"sk-estimator-id-2\" class=\"sk-toggleable__label sk-toggleable__label-arrow\">estimator: Lasso</label><div class=\"sk-toggleable__content\"><pre>Lasso()</pre></div></div></div><div class=\"sk-serial\"><div class=\"sk-item\"><div class=\"sk-estimator sk-toggleable\"><input class=\"sk-toggleable__control sk-hidden--visually\" id=\"sk-estimator-id-3\" type=\"checkbox\" ><label for=\"sk-estimator-id-3\" class=\"sk-toggleable__label sk-toggleable__label-arrow\">Lasso</label><div class=\"sk-toggleable__content\"><pre>Lasso()</pre></div></div></div></div></div></div></div></div></div></div>"
      ],
      "text/plain": [
       "GridSearchCV(cv=KFold(n_splits=5, random_state=42, shuffle=True),\n",
       "             estimator=Lasso(), n_jobs=-1,\n",
       "             param_grid={'alpha': [0.001, 0.01, 0.1, 1]})"
      ]
     },
     "execution_count": 25,
     "metadata": {},
     "output_type": "execute_result"
    }
   ],
   "source": [
    "grid_search = GridSearchCV(lasso_model, param_grid, cv=kf, n_jobs=-1)\n",
    "grid_search.fit(X, y)"
   ]
  },
  {
   "cell_type": "code",
   "execution_count": 26,
   "id": "fd9899e2",
   "metadata": {},
   "outputs": [
    {
     "name": "stdout",
     "output_type": "stream",
     "text": [
      "Best Parameters: {'alpha': 0.001}\n",
      "Best Cross-Validated RMSE: nan\n"
     ]
    },
    {
     "name": "stderr",
     "output_type": "stream",
     "text": [
      "C:\\Users\\bodin\\AppData\\Local\\Temp\\ipykernel_26832\\1905331825.py:2: RuntimeWarning: invalid value encountered in sqrt\n",
      "  best_rmse = np.sqrt(-grid_search.best_score_)\n"
     ]
    }
   ],
   "source": [
    "best_params = grid_search.best_params_\n",
    "best_rmse = np.sqrt(-grid_search.best_score_)\n",
    "print(f'Best Parameters: {best_params}')\n",
    "print(f'Best Cross-Validated RMSE: {best_rmse}')"
   ]
  },
  {
   "cell_type": "code",
   "execution_count": null,
   "id": "ce431543",
   "metadata": {},
   "outputs": [],
   "source": []
  }
 ],
 "metadata": {
  "kernelspec": {
   "display_name": "Python 3 (ipykernel)",
   "language": "python",
   "name": "python3"
  },
  "language_info": {
   "codemirror_mode": {
    "name": "ipython",
    "version": 3
   },
   "file_extension": ".py",
   "mimetype": "text/x-python",
   "name": "python",
   "nbconvert_exporter": "python",
   "pygments_lexer": "ipython3",
   "version": "3.10.9"
  }
 },
 "nbformat": 4,
 "nbformat_minor": 5
}
