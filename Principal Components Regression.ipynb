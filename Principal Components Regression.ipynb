{
 "cells": [
  {
   "cell_type": "markdown",
   "id": "e1928b3c",
   "metadata": {},
   "source": [
    "## Standard libraries"
   ]
  },
  {
   "cell_type": "code",
   "execution_count": 1,
   "id": "f217e22c",
   "metadata": {},
   "outputs": [],
   "source": [
    "import numpy as np\n",
    "import pandas as pd\n",
    "import matplotlib.pyplot as plt"
   ]
  },
  {
   "cell_type": "markdown",
   "id": "3f8dad60",
   "metadata": {},
   "source": [
    "## Import data"
   ]
  },
  {
   "cell_type": "code",
   "execution_count": 2,
   "id": "e9d51dfc",
   "metadata": {},
   "outputs": [],
   "source": [
    "full_data = pd.read_excel(\"C:/Users/bodin/School/STAT 5001/project/baseballdata.xlsx\")"
   ]
  },
  {
   "cell_type": "code",
   "execution_count": 3,
   "id": "aad7425c",
   "metadata": {},
   "outputs": [],
   "source": [
    "# Reduce data to include only games from the year 2000+\n",
    "data_reduced = full_data[full_data['date'] > 20000101]     #yyyymmdd\n",
    "\n",
    "# Only include variables specified in write-up\n",
    "data = data_reduced[['away_AB', 'away_H', 'away_2B', 'away_3B',\n",
    "             'away_HR', 'away_SH', 'away_SF', 'away_HBP', \n",
    "             'away_BB', 'away_IBB', 'away_K', 'away_SB', 'away_CS', \n",
    "             'away_GIDP', 'away_CI', 'away_score', \n",
    "             'home_AB', 'home_H', 'home_2B', 'home_3B', \n",
    "             'home_HR', 'home_SH', 'home_SF', 'home_HBP', \n",
    "             'home_BB', 'home_IBB', 'home_K', 'home_SB', 'home_CS', \n",
    "             'home_GIDP', 'home_CI', 'home_score']]"
   ]
  },
  {
   "cell_type": "code",
   "execution_count": 22,
   "id": "bca2aaf5",
   "metadata": {},
   "outputs": [],
   "source": [
    "# Ensure no 'na' values\n",
    "data = data.dropna()\n",
    "\n",
    "# Add singles column as specified in our write-up\n",
    "data['away_1B'] = data['away_H'] - data['away_2B'] - data['away_3B'] - data['away_HR']\n",
    "data['home_1B'] = data['home_H'] - data['home_2B'] - data['home_3B'] - data['home_HR']"
   ]
  },
  {
   "cell_type": "code",
   "execution_count": 25,
   "id": "e8828cb9",
   "metadata": {},
   "outputs": [],
   "source": [
    "# Combine away and home data columns to split into training & test sets\n",
    "data2 = pd.DataFrame()\n",
    "\n",
    "data2['AB'] = pd.concat([data['away_AB'], data['home_AB']], ignore_index=True)\n",
    "data2['H'] = pd.concat([data['away_H'], data['home_H']], ignore_index=True)\n",
    "data2['1B'] = pd.concat([data['away_1B'], data['home_1B']], ignore_index=True)\n",
    "data2['2B'] = pd.concat([data['away_2B'], data['home_2B']], ignore_index=True)\n",
    "data2['3B'] = pd.concat([data['away_3B'], data['home_3B']], ignore_index=True)\n",
    "data2['HR'] = pd.concat([data['away_HR'], data['home_HR']], ignore_index=True)\n",
    "data2['SH'] = pd.concat([data['away_SH'], data['home_SH']], ignore_index=True)\n",
    "data2['SF'] = pd.concat([data['away_SF'], data['home_SF']], ignore_index=True)\n",
    "data2['HBP'] = pd.concat([data['away_HBP'], data['home_HBP']], ignore_index=True)\n",
    "data2['BB'] = pd.concat([data['away_BB'], data['home_BB']], ignore_index=True)\n",
    "data2['IBB'] = pd.concat([data['away_IBB'], data['home_IBB']], ignore_index=True)\n",
    "data2['K'] = pd.concat([data['away_K'], data['home_K']], ignore_index=True)\n",
    "data2['SB'] = pd.concat([data['away_SB'], data['home_SB']], ignore_index=True)\n",
    "data2['CS'] = pd.concat([data['away_CS'], data['home_CS']], ignore_index=True)\n",
    "data2['GIDP'] = pd.concat([data['away_GIDP'], data['home_GIDP']], ignore_index=True)\n",
    "data2['CI'] = pd.concat([data['away_CI'], data['home_CI']], ignore_index=True)\n",
    "data2['SCORE'] = pd.concat([data['away_score'], data['home_score']], ignore_index=True)"
   ]
  },
  {
   "cell_type": "code",
   "execution_count": 27,
   "id": "aac23888",
   "metadata": {},
   "outputs": [
    {
     "data": {
      "text/plain": [
       "((110350, 17), (55175, 34))"
      ]
     },
     "execution_count": 27,
     "metadata": {},
     "output_type": "execute_result"
    }
   ],
   "source": [
    "data2.shape, data.shape"
   ]
  },
  {
   "cell_type": "code",
   "execution_count": 32,
   "id": "b1985bdb",
   "metadata": {},
   "outputs": [
    {
     "data": {
      "text/plain": [
       "['AB',\n",
       " 'H',\n",
       " '1B',\n",
       " '2B',\n",
       " '3B',\n",
       " 'HR',\n",
       " 'SH',\n",
       " 'SF',\n",
       " 'HBP',\n",
       " 'BB',\n",
       " 'IBB',\n",
       " 'K',\n",
       " 'SB',\n",
       " 'CS',\n",
       " 'GIDP',\n",
       " 'CI',\n",
       " 'SCORE']"
      ]
     },
     "execution_count": 32,
     "metadata": {},
     "output_type": "execute_result"
    }
   ],
   "source": [
    "data2.columns.tolist()"
   ]
  },
  {
   "cell_type": "code",
   "execution_count": 43,
   "id": "d07196ae",
   "metadata": {},
   "outputs": [],
   "source": [
    "X = data2.drop('SCORE', axis=1)\n",
    "y = data2['SCORE']"
   ]
  },
  {
   "cell_type": "markdown",
   "id": "d9b8f48c",
   "metadata": {},
   "source": [
    "## Run Principal Components"
   ]
  },
  {
   "cell_type": "code",
   "execution_count": 42,
   "id": "782206b4",
   "metadata": {},
   "outputs": [],
   "source": [
    "from sklearn.decomposition import PCA\n",
    "from sklearn.model_selection import train_test_split"
   ]
  },
  {
   "cell_type": "code",
   "execution_count": 45,
   "id": "87110a25",
   "metadata": {},
   "outputs": [],
   "source": [
    "# Split data\n",
    "np.random.seed(42)\n",
    "\n",
    "X_train, X_test, y_train, y_test = train_test_split(X, y, test_size=0.2)"
   ]
  },
  {
   "cell_type": "code",
   "execution_count": 46,
   "id": "80576aa7",
   "metadata": {},
   "outputs": [],
   "source": [
    "# Standardize data\n",
    "X_train_std = (X_train - np.mean(X_train, axis=0)) / np.std(X_train, axis=0)\n",
    "X_test_std = (X_test - np.mean(X_test, axis=0)) / np.std(X_test, axis=0)"
   ]
  },
  {
   "cell_type": "code",
   "execution_count": 52,
   "id": "9118fa2e",
   "metadata": {},
   "outputs": [],
   "source": [
    "# Principal component analysis\n",
    "#n_components = min(X_train_std.shape[0], X_train_std.shape[1])\n",
    "n_components = 8 \n",
    "pca = PCA(n_components=n_components)\n",
    "X_train_pca = pca.fit_transform(X_train_std)\n",
    "X_test_pca = pca.transform(X_test_std)"
   ]
  },
  {
   "cell_type": "code",
   "execution_count": 53,
   "id": "6cac0adb",
   "metadata": {},
   "outputs": [
    {
     "data": {
      "text/plain": [
       "((88280, 8), (88280, 16))"
      ]
     },
     "execution_count": 53,
     "metadata": {},
     "output_type": "execute_result"
    }
   ],
   "source": [
    "X_train_pca.shape, X_train_std.shape"
   ]
  },
  {
   "cell_type": "code",
   "execution_count": 60,
   "id": "dff4ef7b",
   "metadata": {},
   "outputs": [
    {
     "data": {
      "image/png": "[encoded data removed]",
      "text/plain": [
       "<Figure size 640x480 with 1 Axes>"
      ]
     },
     "metadata": {},
     "output_type": "display_data"
    },
    {
     "name": "stdout",
     "output_type": "stream",
     "text": [
      "Best Number of Components: 1\n"
     ]
    }
   ],
   "source": [
    "from sklearn.linear_model import LinearRegression\n",
    "from sklearn.metrics import mean_squared_error\n",
    "from sklearn.model_selection import cross_val_score\n",
    "\n",
    "components_range = np.arange(1, 16)\n",
    "cv_scores = []\n",
    "\n",
    "for n_components in components_range:\n",
    "    pca = PCA(n_components = n_components)\n",
    "    X_train_pca = pca.fit_transform(X_train_std)\n",
    "    \n",
    "    model = LinearRegression()\n",
    "    \n",
    "    scores = cross_val_score(model, X_train_pca, y_train, cv=5)\n",
    "    cv_scores.append(np.mean(scores))\n",
    "\n",
    "\n",
    "# Plot the cross-validation scores\n",
    "plt.plot(components_range, cv_scores, marker='o')\n",
    "plt.xlabel('Number of Components')\n",
    "plt.ylabel('Cross-Validation Mean Squared Error')\n",
    "plt.title('Cross-Validation Scores for PCA Components')\n",
    "plt.show()\n",
    "\n",
    "# Choose the number of components with the lowest cross-validation error\n",
    "best_n_components = components_range[np.argmin(cv_scores)]\n",
    "print(f'Best Number of Components: {best_n_components}')"
   ]
  },
  {
   "cell_type": "markdown",
   "id": "85368b79",
   "metadata": {},
   "source": [
    "## Principal components regression"
   ]
  },
  {
   "cell_type": "markdown",
   "id": "afee9c5c",
   "metadata": {},
   "source": [
    "### 1 Component"
   ]
  },
  {
   "cell_type": "code",
   "execution_count": 93,
   "id": "56dff418",
   "metadata": {},
   "outputs": [
    {
     "name": "stdout",
     "output_type": "stream",
     "text": [
      "Mean Squared Error: 4.232229239345806\n",
      "Explained Variance Ratio: [0.18945211]\n"
     ]
    }
   ],
   "source": [
    "pca = PCA(n_components=1)\n",
    "X_train_pca = pca.fit_transform(X_train_std)\n",
    "X_test_pca = pca.transform(X_test_std)\n",
    "\n",
    "model = LinearRegression()\n",
    "model.fit(X_train_pca, y_train)\n",
    "\n",
    "y_pred = model.predict(X_test_pca)\n",
    "\n",
    "mse = mean_squared_error(y_test, y_pred)\n",
    "print(f'Mean Squared Error: {mse}')\n",
    "\n",
    "# Optionally, you can inspect the explained variance ratio\n",
    "explained_variance_ratio = pca.explained_variance_ratio_\n",
    "print(f'Explained Variance Ratio: {explained_variance_ratio}')"
   ]
  },
  {
   "cell_type": "code",
   "execution_count": 94,
   "id": "d4f098b5",
   "metadata": {},
   "outputs": [
    {
     "data": {
      "text/plain": [
       "0.583548219102603"
      ]
     },
     "execution_count": 94,
     "metadata": {},
     "output_type": "execute_result"
    }
   ],
   "source": [
    "model.score(X_test_pca, y_test)"
   ]
  },
  {
   "cell_type": "markdown",
   "id": "99d1ec45",
   "metadata": {},
   "source": [
    "### 2 Components"
   ]
  },
  {
   "cell_type": "code",
   "execution_count": 95,
   "id": "4f76e965",
   "metadata": {},
   "outputs": [
    {
     "name": "stdout",
     "output_type": "stream",
     "text": [
      "Mean Squared Error: 4.185261282993794\n",
      "Explained Variance Ratio: [0.1894519  0.08664394]\n"
     ]
    },
    {
     "data": {
      "text/plain": [
       "0.588169870710239"
      ]
     },
     "execution_count": 95,
     "metadata": {},
     "output_type": "execute_result"
    }
   ],
   "source": [
    "pca = PCA(n_components=2)\n",
    "X_train_pca = pca.fit_transform(X_train_std)\n",
    "X_test_pca = pca.transform(X_test_std)\n",
    "\n",
    "model = LinearRegression()\n",
    "model.fit(X_train_pca, y_train)\n",
    "\n",
    "y_pred = model.predict(X_test_pca)\n",
    "\n",
    "mse = mean_squared_error(y_test, y_pred)\n",
    "print(f'Mean Squared Error: {mse}')\n",
    "\n",
    "# Optionally, you can inspect the explained variance ratio\n",
    "explained_variance_ratio = pca.explained_variance_ratio_\n",
    "print(f'Explained Variance Ratio: {explained_variance_ratio}')\n",
    "\n",
    "model.score(X_test_pca, y_test)"
   ]
  },
  {
   "cell_type": "markdown",
   "id": "49831e15",
   "metadata": {},
   "source": [
    "### 8 Components"
   ]
  },
  {
   "cell_type": "code",
   "execution_count": 96,
   "id": "5f7e7c73",
   "metadata": {},
   "outputs": [
    {
     "name": "stdout",
     "output_type": "stream",
     "text": [
      "Mean Squared Error: 3.1258765324126028\n",
      "Explained Variance Ratio: [0.18945211 0.08690096 0.08104141 0.06757941 0.06501706 0.0639633\n",
      " 0.06230393 0.0616919 ]\n"
     ]
    },
    {
     "data": {
      "text/plain": [
       "0.6924134362367786"
      ]
     },
     "execution_count": 96,
     "metadata": {},
     "output_type": "execute_result"
    }
   ],
   "source": [
    "pca = PCA(n_components=8)\n",
    "X_train_pca = pca.fit_transform(X_train_std)\n",
    "X_test_pca = pca.transform(X_test_std)\n",
    "\n",
    "model = LinearRegression()\n",
    "model.fit(X_train_pca, y_train)\n",
    "\n",
    "y_pred = model.predict(X_test_pca)\n",
    "\n",
    "mse = mean_squared_error(y_test, y_pred)\n",
    "print(f'Mean Squared Error: {mse}')\n",
    "\n",
    "# Optionally, you can inspect the explained variance ratio\n",
    "explained_variance_ratio = pca.explained_variance_ratio_\n",
    "print(f'Explained Variance Ratio: {explained_variance_ratio}')\n",
    "\n",
    "model.score(X_test_pca, y_test)"
   ]
  },
  {
   "cell_type": "markdown",
   "id": "f5616760",
   "metadata": {},
   "source": [
    "### 15 Components"
   ]
  },
  {
   "cell_type": "code",
   "execution_count": 97,
   "id": "d380253d",
   "metadata": {},
   "outputs": [
    {
     "name": "stdout",
     "output_type": "stream",
     "text": [
      "Mean Squared Error: 2.2750524555124167\n",
      "Explained Variance Ratio: [0.18945211 0.08690096 0.08104141 0.06757941 0.06501706 0.0639633\n",
      " 0.06230393 0.0616919  0.06006351 0.05784864 0.05678729 0.05129051\n",
      " 0.0430651  0.03778218 0.01521271]\n"
     ]
    },
    {
     "data": {
      "text/plain": [
       "0.7761346105912748"
      ]
     },
     "execution_count": 97,
     "metadata": {},
     "output_type": "execute_result"
    }
   ],
   "source": [
    "pca = PCA(n_components=15)\n",
    "X_train_pca = pca.fit_transform(X_train_std)\n",
    "X_test_pca = pca.transform(X_test_std)\n",
    "\n",
    "model = LinearRegression()\n",
    "model.fit(X_train_pca, y_train)\n",
    "\n",
    "y_pred = model.predict(X_test_pca)\n",
    "\n",
    "mse = mean_squared_error(y_test, y_pred)\n",
    "print(f'Mean Squared Error: {mse}')\n",
    "\n",
    "# Optionally, you can inspect the explained variance ratio\n",
    "explained_variance_ratio = pca.explained_variance_ratio_\n",
    "print(f'Explained Variance Ratio: {explained_variance_ratio}')\n",
    "\n",
    "model.score(X_test_pca, y_test)"
   ]
  },
  {
   "cell_type": "code",
   "execution_count": null,
   "id": "cbb98c53",
   "metadata": {},
   "outputs": [],
   "source": []
  }
 ],
 "metadata": {
  "kernelspec": {
   "display_name": "Python 3 (ipykernel)",
   "language": "python",
   "name": "python3"
  },
  "language_info": {
   "codemirror_mode": {
    "name": "ipython",
    "version": 3
   },
   "file_extension": ".py",
   "mimetype": "text/x-python",
   "name": "python",
   "nbconvert_exporter": "python",
   "pygments_lexer": "ipython3",
   "version": "3.10.9"
  }
 },
 "nbformat": 4,
 "nbformat_minor": 5
}
