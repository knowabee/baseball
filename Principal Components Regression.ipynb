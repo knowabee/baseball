{
 "cells": [
  {
   "cell_type": "markdown",
   "id": "e1928b3c",
   "metadata": {},
   "source": [
    "## Standard libraries"
   ]
  },
  {
   "cell_type": "code",
   "execution_count": 1,
   "id": "f217e22c",
   "metadata": {},
   "outputs": [],
   "source": [
    "import numpy as np\n",
    "import pandas as pd\n",
    "import matplotlib.pyplot as plt"
   ]
  },
  {
   "cell_type": "markdown",
   "id": "3f8dad60",
   "metadata": {},
   "source": [
    "## Import data"
   ]
  },
  {
   "cell_type": "code",
   "execution_count": 2,
   "id": "e9d51dfc",
   "metadata": {},
   "outputs": [],
   "source": [
    "full_data = pd.read_excel(\"C:/Users/bodin/School/STAT 5001/project/gl_project_dataset.xlsx\")"
   ]
  },
  {
   "cell_type": "code",
   "execution_count": 3,
   "id": "aad7425c",
   "metadata": {},
   "outputs": [],
   "source": [
    "# Reduce data to include only games from the year 2000+\n",
    "data_reduced = full_data[full_data['date'] > 20000101]     #yyyymmdd\n",
    "\n",
    "# Only include variables specified in write-up\n",
    "data = data_reduced[['away_AB', 'away_H', 'away_2B', 'away_3B',\n",
    "             'away_HR', 'away_SH', 'away_SF', 'away_HBP', \n",
    "             'away_BB', 'away_IBB', 'away_K', 'away_SB', 'away_CS', \n",
    "             'away_GIDP', 'away_CI', 'away_score', \n",
    "             'home_AB', 'home_H', 'home_2B', 'home_3B', \n",
    "             'home_HR', 'home_SH', 'home_SF', 'home_HBP', \n",
    "             'home_BB', 'home_IBB', 'home_K', 'home_SB', 'home_CS', \n",
    "             'home_GIDP', 'home_CI', 'home_score']]"
   ]
  },
  {
   "cell_type": "code",
   "execution_count": 4,
   "id": "bca2aaf5",
   "metadata": {},
   "outputs": [],
   "source": [
    "# Ensure no 'na' values\n",
    "data = data.dropna()\n",
    "\n",
    "# Add singles column as specified in our write-up\n",
    "data['away_1B'] = data['away_H'] - data['away_2B'] - data['away_3B'] - data['away_HR']\n",
    "data['home_1B'] = data['home_H'] - data['home_2B'] - data['home_3B'] - data['home_HR']"
   ]
  },
  {
   "cell_type": "code",
   "execution_count": 5,
   "id": "e8828cb9",
   "metadata": {},
   "outputs": [],
   "source": [
    "# Combine away and home data columns to split into training & test sets\n",
    "data2 = pd.DataFrame()\n",
    "\n",
    "data2['AB'] = pd.concat([data['away_AB'], data['home_AB']], ignore_index=True)\n",
    "data2['H'] = pd.concat([data['away_H'], data['home_H']], ignore_index=True)\n",
    "data2['1B'] = pd.concat([data['away_1B'], data['home_1B']], ignore_index=True)\n",
    "data2['2B'] = pd.concat([data['away_2B'], data['home_2B']], ignore_index=True)\n",
    "data2['3B'] = pd.concat([data['away_3B'], data['home_3B']], ignore_index=True)\n",
    "data2['HR'] = pd.concat([data['away_HR'], data['home_HR']], ignore_index=True)\n",
    "data2['SH'] = pd.concat([data['away_SH'], data['home_SH']], ignore_index=True)\n",
    "data2['SF'] = pd.concat([data['away_SF'], data['home_SF']], ignore_index=True)\n",
    "data2['HBP'] = pd.concat([data['away_HBP'], data['home_HBP']], ignore_index=True)\n",
    "data2['BB'] = pd.concat([data['away_BB'], data['home_BB']], ignore_index=True)\n",
    "data2['IBB'] = pd.concat([data['away_IBB'], data['home_IBB']], ignore_index=True)\n",
    "data2['K'] = pd.concat([data['away_K'], data['home_K']], ignore_index=True)\n",
    "data2['SB'] = pd.concat([data['away_SB'], data['home_SB']], ignore_index=True)\n",
    "data2['CS'] = pd.concat([data['away_CS'], data['home_CS']], ignore_index=True)\n",
    "data2['GIDP'] = pd.concat([data['away_GIDP'], data['home_GIDP']], ignore_index=True)\n",
    "data2['CI'] = pd.concat([data['away_CI'], data['home_CI']], ignore_index=True)\n",
    "data2['SCORE'] = pd.concat([data['away_score'], data['home_score']], ignore_index=True)"
   ]
  },
  {
   "cell_type": "code",
   "execution_count": 6,
   "id": "aac23888",
   "metadata": {},
   "outputs": [
    {
     "data": {
      "text/plain": [
       "((110350, 17), (55175, 34))"
      ]
     },
     "execution_count": 6,
     "metadata": {},
     "output_type": "execute_result"
    }
   ],
   "source": [
    "data2.shape, data.shape"
   ]
  },
  {
   "cell_type": "code",
   "execution_count": 7,
   "id": "b1985bdb",
   "metadata": {},
   "outputs": [
    {
     "data": {
      "text/plain": [
       "['AB',\n",
       " 'H',\n",
       " '1B',\n",
       " '2B',\n",
       " '3B',\n",
       " 'HR',\n",
       " 'SH',\n",
       " 'SF',\n",
       " 'HBP',\n",
       " 'BB',\n",
       " 'IBB',\n",
       " 'K',\n",
       " 'SB',\n",
       " 'CS',\n",
       " 'GIDP',\n",
       " 'CI',\n",
       " 'SCORE']"
      ]
     },
     "execution_count": 7,
     "metadata": {},
     "output_type": "execute_result"
    }
   ],
   "source": [
    "data2.columns.tolist()"
   ]
  },
  {
   "cell_type": "code",
   "execution_count": 8,
   "id": "d07196ae",
   "metadata": {},
   "outputs": [],
   "source": [
    "X = data2.drop('SCORE', axis=1)\n",
    "y = data2['SCORE']"
   ]
  },
  {
   "cell_type": "markdown",
   "id": "d9b8f48c",
   "metadata": {},
   "source": [
    "## Run Principal Components"
   ]
  },
  {
   "cell_type": "code",
   "execution_count": 9,
   "id": "782206b4",
   "metadata": {},
   "outputs": [],
   "source": [
    "from sklearn.decomposition import PCA\n",
    "from sklearn.model_selection import train_test_split"
   ]
  },
  {
   "cell_type": "code",
   "execution_count": 10,
   "id": "87110a25",
   "metadata": {},
   "outputs": [],
   "source": [
    "# Split data\n",
    "np.random.seed(42)\n",
    "\n",
    "X_train, X_test, y_train, y_test = train_test_split(X, y, test_size=0.2)"
   ]
  },
  {
   "cell_type": "code",
   "execution_count": 11,
   "id": "80576aa7",
   "metadata": {},
   "outputs": [],
   "source": [
    "# Standardize data\n",
    "X_train_std = (X_train - np.mean(X_train, axis=0)) / np.std(X_train, axis=0)\n",
    "X_test_std = (X_test - np.mean(X_test, axis=0)) / np.std(X_test, axis=0)"
   ]
  },
  {
   "cell_type": "code",
   "execution_count": 52,
   "id": "9118fa2e",
   "metadata": {},
   "outputs": [],
   "source": [
    "# Principal component analysis\n",
    "#n_components = min(X_train_std.shape[0], X_train_std.shape[1])\n",
    "n_components = 8 \n",
    "pca = PCA(n_components=n_components)\n",
    "X_train_pca = pca.fit_transform(X_train_std)\n",
    "X_test_pca = pca.transform(X_test_std)"
   ]
  },
  {
   "cell_type": "code",
   "execution_count": 53,
   "id": "6cac0adb",
   "metadata": {},
   "outputs": [
    {
     "data": {
      "text/plain": [
       "((88280, 8), (88280, 16))"
      ]
     },
     "execution_count": 53,
     "metadata": {},
     "output_type": "execute_result"
    }
   ],
   "source": [
    "X_train_pca.shape, X_train_std.shape"
   ]
  },
  {
   "cell_type": "code",
   "execution_count": 60,
   "id": "dff4ef7b",
   "metadata": {},
   "outputs": [
    {
     "data": {
      "image/png": "[encoded data removed]",
      "text/plain": [
       "<Figure size 640x480 with 1 Axes>"
      ]
     },
     "metadata": {},
     "output_type": "display_data"
    },
    {
     "name": "stdout",
     "output_type": "stream",
     "text": [
      "Best Number of Components: 1\n"
     ]
    }
   ],
   "source": [
    "from sklearn.linear_model import LinearRegression\n",
    "from sklearn.metrics import mean_squared_error\n",
    "from sklearn.model_selection import cross_val_score\n",
    "\n",
    "components_range = np.arange(1, 16)\n",
    "cv_scores = []\n",
    "\n",
    "for n_components in components_range:\n",
    "    pca = PCA(n_components = n_components)\n",
    "    X_train_pca = pca.fit_transform(X_train_std)\n",
    "    \n",
    "    model = LinearRegression()\n",
    "    \n",
    "    scores = cross_val_score(model, X_train_pca, y_train, cv=5)\n",
    "    cv_scores.append(np.mean(scores))\n",
    "\n",
    "\n",
    "# Plot the cross-validation scores\n",
    "plt.plot(components_range, cv_scores, marker='o')\n",
    "plt.xlabel('Number of Components')\n",
    "plt.ylabel('Cross-Validation Mean Squared Error')\n",
    "plt.title('Cross-Validation Scores for PCA Components')\n",
    "plt.show()\n",
    "\n",
    "# Choose the number of components with the lowest cross-validation error\n",
    "best_n_components = components_range[np.argmin(cv_scores)]\n",
    "print(f'Best Number of Components: {best_n_components}')"
   ]
  },
  {
   "cell_type": "markdown",
   "id": "85368b79",
   "metadata": {},
   "source": [
    "## Principal components regression"
   ]
  },
  {
   "cell_type": "markdown",
   "id": "afee9c5c",
   "metadata": {},
   "source": [
    "### 1 Component"
   ]
  },
  {
   "cell_type": "code",
   "execution_count": 93,
   "id": "56dff418",
   "metadata": {},
   "outputs": [
    {
     "name": "stdout",
     "output_type": "stream",
     "text": [
      "Mean Squared Error: 4.232229239345806\n",
      "Explained Variance Ratio: [0.18945211]\n"
     ]
    }
   ],
   "source": [
    "pca = PCA(n_components=1)\n",
    "X_train_pca = pca.fit_transform(X_train_std)\n",
    "X_test_pca = pca.transform(X_test_std)\n",
    "\n",
    "model = LinearRegression()\n",
    "model.fit(X_train_pca, y_train)\n",
    "\n",
    "y_pred = model.predict(X_test_pca)\n",
    "\n",
    "mse = mean_squared_error(y_test, y_pred)\n",
    "print(f'Mean Squared Error: {mse}')\n",
    "\n",
    "# Optionally, you can inspect the explained variance ratio\n",
    "explained_variance_ratio = pca.explained_variance_ratio_\n",
    "print(f'Explained Variance Ratio: {explained_variance_ratio}')"
   ]
  },
  {
   "cell_type": "code",
   "execution_count": 94,
   "id": "d4f098b5",
   "metadata": {},
   "outputs": [
    {
     "data": {
      "text/plain": [
       "0.583548219102603"
      ]
     },
     "execution_count": 94,
     "metadata": {},
     "output_type": "execute_result"
    }
   ],
   "source": [
    "model.score(X_test_pca, y_test)"
   ]
  },
  {
   "cell_type": "markdown",
   "id": "99d1ec45",
   "metadata": {},
   "source": [
    "### 2 Components"
   ]
  },
  {
   "cell_type": "code",
   "execution_count": 95,
   "id": "4f76e965",
   "metadata": {},
   "outputs": [
    {
     "name": "stdout",
     "output_type": "stream",
     "text": [
      "Mean Squared Error: 4.185261282993794\n",
      "Explained Variance Ratio: [0.1894519  0.08664394]\n"
     ]
    },
    {
     "data": {
      "text/plain": [
       "0.588169870710239"
      ]
     },
     "execution_count": 95,
     "metadata": {},
     "output_type": "execute_result"
    }
   ],
   "source": [
    "pca = PCA(n_components=2)\n",
    "X_train_pca = pca.fit_transform(X_train_std)\n",
    "X_test_pca = pca.transform(X_test_std)\n",
    "\n",
    "model = LinearRegression()\n",
    "model.fit(X_train_pca, y_train)\n",
    "\n",
    "y_pred = model.predict(X_test_pca)\n",
    "\n",
    "mse = mean_squared_error(y_test, y_pred)\n",
    "print(f'Mean Squared Error: {mse}')\n",
    "\n",
    "# Optionally, you can inspect the explained variance ratio\n",
    "explained_variance_ratio = pca.explained_variance_ratio_\n",
    "print(f'Explained Variance Ratio: {explained_variance_ratio}')\n",
    "\n",
    "model.score(X_test_pca, y_test)"
   ]
  },
  {
   "cell_type": "markdown",
   "id": "49831e15",
   "metadata": {},
   "source": [
    "### 8 Components"
   ]
  },
  {
   "cell_type": "code",
   "execution_count": 96,
   "id": "5f7e7c73",
   "metadata": {},
   "outputs": [
    {
     "name": "stdout",
     "output_type": "stream",
     "text": [
      "Mean Squared Error: 3.1258765324126028\n",
      "Explained Variance Ratio: [0.18945211 0.08690096 0.08104141 0.06757941 0.06501706 0.0639633\n",
      " 0.06230393 0.0616919 ]\n"
     ]
    },
    {
     "data": {
      "text/plain": [
       "0.6924134362367786"
      ]
     },
     "execution_count": 96,
     "metadata": {},
     "output_type": "execute_result"
    }
   ],
   "source": [
    "pca = PCA(n_components=8)\n",
    "X_train_pca = pca.fit_transform(X_train_std)\n",
    "X_test_pca = pca.transform(X_test_std)\n",
    "\n",
    "model = LinearRegression()\n",
    "model.fit(X_train_pca, y_train)\n",
    "\n",
    "y_pred = model.predict(X_test_pca)\n",
    "\n",
    "mse = mean_squared_error(y_test, y_pred)\n",
    "print(f'Mean Squared Error: {mse}')\n",
    "\n",
    "# Optionally, you can inspect the explained variance ratio\n",
    "explained_variance_ratio = pca.explained_variance_ratio_\n",
    "print(f'Explained Variance Ratio: {explained_variance_ratio}')\n",
    "\n",
    "model.score(X_test_pca, y_test)"
   ]
  },
  {
   "cell_type": "markdown",
   "id": "f5616760",
   "metadata": {},
   "source": [
    "### 15 Components"
   ]
  },
  {
   "cell_type": "code",
   "execution_count": 97,
   "id": "d380253d",
   "metadata": {},
   "outputs": [
    {
     "name": "stdout",
     "output_type": "stream",
     "text": [
      "Mean Squared Error: 2.2750524555124167\n",
      "Explained Variance Ratio: [0.18945211 0.08690096 0.08104141 0.06757941 0.06501706 0.0639633\n",
      " 0.06230393 0.0616919  0.06006351 0.05784864 0.05678729 0.05129051\n",
      " 0.0430651  0.03778218 0.01521271]\n"
     ]
    },
    {
     "data": {
      "text/plain": [
       "0.7761346105912748"
      ]
     },
     "execution_count": 97,
     "metadata": {},
     "output_type": "execute_result"
    }
   ],
   "source": [
    "pca = PCA(n_components=15)\n",
    "X_train_pca = pca.fit_transform(X_train_std)\n",
    "X_test_pca = pca.transform(X_test_std)\n",
    "\n",
    "model = LinearRegression()\n",
    "model.fit(X_train_pca, y_train)\n",
    "\n",
    "y_pred = model.predict(X_test_pca)\n",
    "\n",
    "mse = mean_squared_error(y_test, y_pred)\n",
    "print(f'Mean Squared Error: {mse}')\n",
    "\n",
    "# Optionally, you can inspect the explained variance ratio\n",
    "explained_variance_ratio = pca.explained_variance_ratio_\n",
    "print(f'Explained Variance Ratio: {explained_variance_ratio}')\n",
    "\n",
    "model.score(X_test_pca, y_test)"
   ]
  },
  {
   "cell_type": "markdown",
   "id": "95cf6a24",
   "metadata": {},
   "source": [
    "## Find best model"
   ]
  },
  {
   "cell_type": "code",
   "execution_count": 14,
   "id": "22c7ea32",
   "metadata": {},
   "outputs": [],
   "source": [
    "from sklearn.decomposition import PCA\n",
    "from sklearn.linear_model import LinearRegression\n",
    "from sklearn.model_selection import GridSearchCV\n",
    "from sklearn.pipeline import Pipeline\n",
    "from sklearn.metrics import mean_squared_error"
   ]
  },
  {
   "cell_type": "code",
   "execution_count": 16,
   "id": "91e148c4",
   "metadata": {},
   "outputs": [],
   "source": [
    "# Create a PCA regression model with a linear regression estimator\n",
    "pca_model = Pipeline([\n",
    "    ('pca', PCA()),\n",
    "    ('regression', LinearRegression())\n",
    "])\n",
    "\n",
    "# Set up parameter grid for grid search\n",
    "param_grid = {\n",
    "    'pca__n_components': [1, 2, 3, 4, 5, 6, 7, 8, 9,\n",
    "                         10, 11, 12, 13, 14, 15, 16\n",
    "                         ],  # Example values for the number of components\n",
    "}"
   ]
  },
  {
   "cell_type": "code",
   "execution_count": 18,
   "id": "fe2cca85",
   "metadata": {},
   "outputs": [
    {
     "data": {
      "text/html": [
       "<style>#sk-container-id-1 {color: black;background-color: white;}#sk-container-id-1 pre{padding: 0;}#sk-container-id-1 div.sk-toggleable {background-color: white;}#sk-container-id-1 label.sk-toggleable__label {cursor: pointer;display: block;width: 100%;margin-bottom: 0;padding: 0.3em;box-sizing: border-box;text-align: center;}#sk-container-id-1 label.sk-toggleable__label-arrow:before {content: \"▸\";float: left;margin-right: 0.25em;color: #696969;}#sk-container-id-1 label.sk-toggleable__label-arrow:hover:before {color: black;}#sk-container-id-1 div.sk-estimator:hover label.sk-toggleable__label-arrow:before {color: black;}#sk-container-id-1 div.sk-toggleable__content {max-height: 0;max-width: 0;overflow: hidden;text-align: left;background-color: #f0f8ff;}#sk-container-id-1 div.sk-toggleable__content pre {margin: 0.2em;color: black;border-radius: 0.25em;background-color: #f0f8ff;}#sk-container-id-1 input.sk-toggleable__control:checked~div.sk-toggleable__content {max-height: 200px;max-width: 100%;overflow: auto;}#sk-container-id-1 input.sk-toggleable__control:checked~label.sk-toggleable__label-arrow:before {content: \"▾\";}#sk-container-id-1 div.sk-estimator input.sk-toggleable__control:checked~label.sk-toggleable__label {background-color: #d4ebff;}#sk-container-id-1 div.sk-label input.sk-toggleable__control:checked~label.sk-toggleable__label {background-color: #d4ebff;}#sk-container-id-1 input.sk-hidden--visually {border: 0;clip: rect(1px 1px 1px 1px);clip: rect(1px, 1px, 1px, 1px);height: 1px;margin: -1px;overflow: hidden;padding: 0;position: absolute;width: 1px;}#sk-container-id-1 div.sk-estimator {font-family: monospace;background-color: #f0f8ff;border: 1px dotted black;border-radius: 0.25em;box-sizing: border-box;margin-bottom: 0.5em;}#sk-container-id-1 div.sk-estimator:hover {background-color: #d4ebff;}#sk-container-id-1 div.sk-parallel-item::after {content: \"\";width: 100%;border-bottom: 1px solid gray;flex-grow: 1;}#sk-container-id-1 div.sk-label:hover label.sk-toggleable__label {background-color: #d4ebff;}#sk-container-id-1 div.sk-serial::before {content: \"\";position: absolute;border-left: 1px solid gray;box-sizing: border-box;top: 0;bottom: 0;left: 50%;z-index: 0;}#sk-container-id-1 div.sk-serial {display: flex;flex-direction: column;align-items: center;background-color: white;padding-right: 0.2em;padding-left: 0.2em;position: relative;}#sk-container-id-1 div.sk-item {position: relative;z-index: 1;}#sk-container-id-1 div.sk-parallel {display: flex;align-items: stretch;justify-content: center;background-color: white;position: relative;}#sk-container-id-1 div.sk-item::before, #sk-container-id-1 div.sk-parallel-item::before {content: \"\";position: absolute;border-left: 1px solid gray;box-sizing: border-box;top: 0;bottom: 0;left: 50%;z-index: -1;}#sk-container-id-1 div.sk-parallel-item {display: flex;flex-direction: column;z-index: 1;position: relative;background-color: white;}#sk-container-id-1 div.sk-parallel-item:first-child::after {align-self: flex-end;width: 50%;}#sk-container-id-1 div.sk-parallel-item:last-child::after {align-self: flex-start;width: 50%;}#sk-container-id-1 div.sk-parallel-item:only-child::after {width: 0;}#sk-container-id-1 div.sk-dashed-wrapped {border: 1px dashed gray;margin: 0 0.4em 0.5em 0.4em;box-sizing: border-box;padding-bottom: 0.4em;background-color: white;}#sk-container-id-1 div.sk-label label {font-family: monospace;font-weight: bold;display: inline-block;line-height: 1.2em;}#sk-container-id-1 div.sk-label-container {text-align: center;}#sk-container-id-1 div.sk-container {/* jupyter's `normalize.less` sets `[hidden] { display: none; }` but bootstrap.min.css set `[hidden] { display: none !important; }` so we also need the `!important` here to be able to override the default hidden behavior on the sphinx rendered scikit-learn.org. See: https://github.com/scikit-learn/scikit-learn/issues/21755 */display: inline-block !important;position: relative;}#sk-container-id-1 div.sk-text-repr-fallback {display: none;}</style><div id=\"sk-container-id-1\" class=\"sk-top-container\"><div class=\"sk-text-repr-fallback\"><pre>GridSearchCV(cv=5,\n",
       "             estimator=Pipeline(steps=[(&#x27;pca&#x27;, PCA()),\n",
       "                                       (&#x27;regression&#x27;, LinearRegression())]),\n",
       "             param_grid={&#x27;pca__n_components&#x27;: [1, 2, 3, 4, 5, 6, 7, 8, 9, 10,\n",
       "                                               11, 12, 13, 14, 15, 16]},\n",
       "             scoring=&#x27;neg_mean_squared_error&#x27;)</pre><b>In a Jupyter environment, please rerun this cell to show the HTML representation or trust the notebook. <br />On GitHub, the HTML representation is unable to render, please try loading this page with nbviewer.org.</b></div><div class=\"sk-container\" hidden><div class=\"sk-item sk-dashed-wrapped\"><div class=\"sk-label-container\"><div class=\"sk-label sk-toggleable\"><input class=\"sk-toggleable__control sk-hidden--visually\" id=\"sk-estimator-id-1\" type=\"checkbox\" ><label for=\"sk-estimator-id-1\" class=\"sk-toggleable__label sk-toggleable__label-arrow\">GridSearchCV</label><div class=\"sk-toggleable__content\"><pre>GridSearchCV(cv=5,\n",
       "             estimator=Pipeline(steps=[(&#x27;pca&#x27;, PCA()),\n",
       "                                       (&#x27;regression&#x27;, LinearRegression())]),\n",
       "             param_grid={&#x27;pca__n_components&#x27;: [1, 2, 3, 4, 5, 6, 7, 8, 9, 10,\n",
       "                                               11, 12, 13, 14, 15, 16]},\n",
       "             scoring=&#x27;neg_mean_squared_error&#x27;)</pre></div></div></div><div class=\"sk-parallel\"><div class=\"sk-parallel-item\"><div class=\"sk-item\"><div class=\"sk-label-container\"><div class=\"sk-label sk-toggleable\"><input class=\"sk-toggleable__control sk-hidden--visually\" id=\"sk-estimator-id-2\" type=\"checkbox\" ><label for=\"sk-estimator-id-2\" class=\"sk-toggleable__label sk-toggleable__label-arrow\">estimator: Pipeline</label><div class=\"sk-toggleable__content\"><pre>Pipeline(steps=[(&#x27;pca&#x27;, PCA()), (&#x27;regression&#x27;, LinearRegression())])</pre></div></div></div><div class=\"sk-serial\"><div class=\"sk-item\"><div class=\"sk-serial\"><div class=\"sk-item\"><div class=\"sk-estimator sk-toggleable\"><input class=\"sk-toggleable__control sk-hidden--visually\" id=\"sk-estimator-id-3\" type=\"checkbox\" ><label for=\"sk-estimator-id-3\" class=\"sk-toggleable__label sk-toggleable__label-arrow\">PCA</label><div class=\"sk-toggleable__content\"><pre>PCA()</pre></div></div></div><div class=\"sk-item\"><div class=\"sk-estimator sk-toggleable\"><input class=\"sk-toggleable__control sk-hidden--visually\" id=\"sk-estimator-id-4\" type=\"checkbox\" ><label for=\"sk-estimator-id-4\" class=\"sk-toggleable__label sk-toggleable__label-arrow\">LinearRegression</label><div class=\"sk-toggleable__content\"><pre>LinearRegression()</pre></div></div></div></div></div></div></div></div></div></div></div></div>"
      ],
      "text/plain": [
       "GridSearchCV(cv=5,\n",
       "             estimator=Pipeline(steps=[('pca', PCA()),\n",
       "                                       ('regression', LinearRegression())]),\n",
       "             param_grid={'pca__n_components': [1, 2, 3, 4, 5, 6, 7, 8, 9, 10,\n",
       "                                               11, 12, 13, 14, 15, 16]},\n",
       "             scoring='neg_mean_squared_error')"
      ]
     },
     "execution_count": 18,
     "metadata": {},
     "output_type": "execute_result"
    }
   ],
   "source": [
    "# Create GridSearchCV object\n",
    "grid_search = GridSearchCV(pca_model, param_grid, cv=5, scoring='neg_mean_squared_error')\n",
    "\n",
    "# Fit the model to the training data\n",
    "grid_search.fit(X_train_std, y_train)"
   ]
  },
  {
   "cell_type": "code",
   "execution_count": 23,
   "id": "12173978",
   "metadata": {},
   "outputs": [],
   "source": [
    "# Access the linear regression estimator from the best model\n",
    "best_regressor = grid_search.best_estimator_.named_steps['regression']"
   ]
  },
  {
   "cell_type": "code",
   "execution_count": 20,
   "id": "d68e8d56",
   "metadata": {},
   "outputs": [
    {
     "name": "stdout",
     "output_type": "stream",
     "text": [
      "Best Parameters: {'pca__n_components': 15}\n",
      "Mean Squared Error on Test Set: 2.2750524555124167\n"
     ]
    }
   ],
   "source": [
    "# Get the best parameters and best cross-validated score\n",
    "best_params = grid_search.best_params_\n",
    "print(f'Best Parameters: {best_params}')\n",
    "\n",
    "# Evaluate the model on the test set\n",
    "y_pred = grid_search.predict(X_test_std)\n",
    "mse = mean_squared_error(y_test, y_pred)\n",
    "rmse = np.sqrt(mse)\n",
    "print(f'Mean Squared Error on Test Set: {mse}')"
   ]
  },
  {
   "cell_type": "code",
   "execution_count": 21,
   "id": "3e4f73d8",
   "metadata": {},
   "outputs": [
    {
     "data": {
      "image/png": "[encoded data removed]",
      "text/plain": [
       "<Figure size 640x480 with 1 Axes>"
      ]
     },
     "metadata": {},
     "output_type": "display_data"
    }
   ],
   "source": [
    "# Plot predicted vs actual values\n",
    "plt.scatter(y_test, y_pred)\n",
    "plt.xlabel('Actual Values')\n",
    "plt.ylabel('Predicted Values')\n",
    "plt.title('PLS Regression: Actual vs Predicted Values')\n",
    "plt.show()"
   ]
  },
  {
   "cell_type": "code",
   "execution_count": 24,
   "id": "8b03a29e",
   "metadata": {},
   "outputs": [
    {
     "name": "stdout",
     "output_type": "stream",
     "text": [
      "Linear Regression Coefficients:\n",
      "Intercept: 4.55642274580879\n",
      "Coefficients: [ 1.3741524  -0.17604682  0.11258342  0.38051764 -0.56835614  0.23240342\n",
      "  0.2462425  -0.65954217  0.33430727 -0.46814712  0.28983752 -0.04653517\n",
      " -0.29509363 -0.33634182 -1.16025251]\n"
     ]
    }
   ],
   "source": [
    "# Display the coefficients\n",
    "coefficients = best_regressor.coef_\n",
    "intercept = best_regressor.intercept_\n",
    "\n",
    "print(\"Linear Regression Coefficients:\")\n",
    "print(\"Intercept:\", intercept)\n",
    "print(\"Coefficients:\", coefficients)"
   ]
  },
  {
   "cell_type": "code",
   "execution_count": null,
   "id": "7cbceeb4",
   "metadata": {},
   "outputs": [],
   "source": []
  }
 ],
 "metadata": {
  "kernelspec": {
   "display_name": "Python 3 (ipykernel)",
   "language": "python",
   "name": "python3"
  },
  "language_info": {
   "codemirror_mode": {
    "name": "ipython",
    "version": 3
   },
   "file_extension": ".py",
   "mimetype": "text/x-python",
   "name": "python",
   "nbconvert_exporter": "python",
   "pygments_lexer": "ipython3",
   "version": "3.10.9"
  }
 },
 "nbformat": 4,
 "nbformat_minor": 5
}
