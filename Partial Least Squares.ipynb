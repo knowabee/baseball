{
 "cells": [
  {
   "cell_type": "markdown",
   "id": "8bdade38",
   "metadata": {},
   "source": [
    "## Standard libraries"
   ]
  },
  {
   "cell_type": "code",
   "execution_count": 1,
   "id": "e72d9dda",
   "metadata": {},
   "outputs": [],
   "source": [
    "import pandas as pd\n",
    "import numpy as np\n",
    "import matplotlib.pyplot as plt"
   ]
  },
  {
   "cell_type": "markdown",
   "id": "76ba9b61",
   "metadata": {},
   "source": [
    "## Import data"
   ]
  },
  {
   "cell_type": "code",
   "execution_count": 2,
   "id": "5e4a59ab",
   "metadata": {},
   "outputs": [
    {
     "data": {
      "text/html": [
       "<div>\n",
       "<style scoped>\n",
       "    .dataframe tbody tr th:only-of-type {\n",
       "        vertical-align: middle;\n",
       "    }\n",
       "\n",
       "    .dataframe tbody tr th {\n",
       "        vertical-align: top;\n",
       "    }\n",
       "\n",
       "    .dataframe thead th {\n",
       "        text-align: right;\n",
       "    }\n",
       "</style>\n",
       "<table border=\"1\" class=\"dataframe\">\n",
       "  <thead>\n",
       "    <tr style=\"text-align: right;\">\n",
       "      <th></th>\n",
       "      <th>date</th>\n",
       "      <th>away_score</th>\n",
       "      <th>home_score</th>\n",
       "      <th>away_AB</th>\n",
       "      <th>away_H</th>\n",
       "      <th>away_2B</th>\n",
       "      <th>away_3B</th>\n",
       "      <th>away_HR</th>\n",
       "      <th>away_RBI</th>\n",
       "      <th>away_SH</th>\n",
       "      <th>...</th>\n",
       "      <th>home_SF</th>\n",
       "      <th>home_HBP</th>\n",
       "      <th>home_BB</th>\n",
       "      <th>home_IBB</th>\n",
       "      <th>home_K</th>\n",
       "      <th>home_SB</th>\n",
       "      <th>home_CS</th>\n",
       "      <th>home_GIDP</th>\n",
       "      <th>home_CI</th>\n",
       "      <th>home_LOB</th>\n",
       "    </tr>\n",
       "  </thead>\n",
       "  <tbody>\n",
       "    <tr>\n",
       "      <th>0</th>\n",
       "      <td>20000329</td>\n",
       "      <td>5</td>\n",
       "      <td>3</td>\n",
       "      <td>33</td>\n",
       "      <td>12</td>\n",
       "      <td>1</td>\n",
       "      <td>0</td>\n",
       "      <td>2</td>\n",
       "      <td>5</td>\n",
       "      <td>1</td>\n",
       "      <td>...</td>\n",
       "      <td>1</td>\n",
       "      <td>0</td>\n",
       "      <td>3</td>\n",
       "      <td>0</td>\n",
       "      <td>4</td>\n",
       "      <td>0</td>\n",
       "      <td>0</td>\n",
       "      <td>1</td>\n",
       "      <td>0</td>\n",
       "      <td>8</td>\n",
       "    </tr>\n",
       "    <tr>\n",
       "      <th>1</th>\n",
       "      <td>20000330</td>\n",
       "      <td>5</td>\n",
       "      <td>1</td>\n",
       "      <td>37</td>\n",
       "      <td>6</td>\n",
       "      <td>2</td>\n",
       "      <td>0</td>\n",
       "      <td>1</td>\n",
       "      <td>5</td>\n",
       "      <td>1</td>\n",
       "      <td>...</td>\n",
       "      <td>0</td>\n",
       "      <td>0</td>\n",
       "      <td>6</td>\n",
       "      <td>1</td>\n",
       "      <td>9</td>\n",
       "      <td>0</td>\n",
       "      <td>0</td>\n",
       "      <td>2</td>\n",
       "      <td>0</td>\n",
       "      <td>10</td>\n",
       "    </tr>\n",
       "    <tr>\n",
       "      <th>2</th>\n",
       "      <td>20000403</td>\n",
       "      <td>0</td>\n",
       "      <td>2</td>\n",
       "      <td>31</td>\n",
       "      <td>6</td>\n",
       "      <td>2</td>\n",
       "      <td>0</td>\n",
       "      <td>0</td>\n",
       "      <td>0</td>\n",
       "      <td>1</td>\n",
       "      <td>...</td>\n",
       "      <td>0</td>\n",
       "      <td>1</td>\n",
       "      <td>1</td>\n",
       "      <td>0</td>\n",
       "      <td>6</td>\n",
       "      <td>1</td>\n",
       "      <td>0</td>\n",
       "      <td>1</td>\n",
       "      <td>0</td>\n",
       "      <td>6</td>\n",
       "    </tr>\n",
       "    <tr>\n",
       "      <th>3</th>\n",
       "      <td>20000403</td>\n",
       "      <td>3</td>\n",
       "      <td>3</td>\n",
       "      <td>22</td>\n",
       "      <td>7</td>\n",
       "      <td>1</td>\n",
       "      <td>0</td>\n",
       "      <td>0</td>\n",
       "      <td>2</td>\n",
       "      <td>0</td>\n",
       "      <td>...</td>\n",
       "      <td>0</td>\n",
       "      <td>0</td>\n",
       "      <td>1</td>\n",
       "      <td>0</td>\n",
       "      <td>4</td>\n",
       "      <td>0</td>\n",
       "      <td>0</td>\n",
       "      <td>0</td>\n",
       "      <td>0</td>\n",
       "      <td>2</td>\n",
       "    </tr>\n",
       "    <tr>\n",
       "      <th>4</th>\n",
       "      <td>20000403</td>\n",
       "      <td>4</td>\n",
       "      <td>6</td>\n",
       "      <td>35</td>\n",
       "      <td>10</td>\n",
       "      <td>2</td>\n",
       "      <td>2</td>\n",
       "      <td>1</td>\n",
       "      <td>4</td>\n",
       "      <td>0</td>\n",
       "      <td>...</td>\n",
       "      <td>0</td>\n",
       "      <td>1</td>\n",
       "      <td>1</td>\n",
       "      <td>0</td>\n",
       "      <td>7</td>\n",
       "      <td>1</td>\n",
       "      <td>0</td>\n",
       "      <td>1</td>\n",
       "      <td>0</td>\n",
       "      <td>8</td>\n",
       "    </tr>\n",
       "  </tbody>\n",
       "</table>\n",
       "<p>5 rows × 37 columns</p>\n",
       "</div>"
      ],
      "text/plain": [
       "       date  away_score  home_score  away_AB  away_H  away_2B  away_3B  \\\n",
       "0  20000329           5           3       33      12        1        0   \n",
       "1  20000330           5           1       37       6        2        0   \n",
       "2  20000403           0           2       31       6        2        0   \n",
       "3  20000403           3           3       22       7        1        0   \n",
       "4  20000403           4           6       35      10        2        2   \n",
       "\n",
       "   away_HR  away_RBI  away_SH  ...  home_SF  home_HBP  home_BB  home_IBB  \\\n",
       "0        2         5        1  ...        1         0        3         0   \n",
       "1        1         5        1  ...        0         0        6         1   \n",
       "2        0         0        1  ...        0         1        1         0   \n",
       "3        0         2        0  ...        0         0        1         0   \n",
       "4        1         4        0  ...        0         1        1         0   \n",
       "\n",
       "   home_K  home_SB  home_CS  home_GIDP  home_CI  home_LOB  \n",
       "0       4        0        0          1        0         8  \n",
       "1       9        0        0          2        0        10  \n",
       "2       6        1        0          1        0         6  \n",
       "3       4        0        0          0        0         2  \n",
       "4       7        1        0          1        0         8  \n",
       "\n",
       "[5 rows x 37 columns]"
      ]
     },
     "execution_count": 2,
     "metadata": {},
     "output_type": "execute_result"
    }
   ],
   "source": [
    "# This is the full dataset \n",
    "full_data = pd.read_excel(\"C:/Users/bodin/School/STAT 5001/project/gl_project_dataset.xlsx\")\n",
    "full_data.head()"
   ]
  },
  {
   "cell_type": "markdown",
   "id": "ea53aa42",
   "metadata": {},
   "source": [
    "## Manipulate data"
   ]
  },
  {
   "cell_type": "code",
   "execution_count": 3,
   "id": "0b3d329e",
   "metadata": {},
   "outputs": [],
   "source": [
    "# Reduce data to include only games from the year 2000+\n",
    "data_reduced = full_data[full_data['date'] > 20000101]     #yyyymmdd\n",
    "\n",
    "# Only include variables specified in write-up\n",
    "data = data_reduced[['away_AB', 'away_H', 'away_2B', 'away_3B',\n",
    "             'away_HR', 'away_SH', 'away_SF', 'away_HBP', \n",
    "             'away_BB', 'away_IBB', 'away_K', 'away_SB', 'away_CS', \n",
    "             'away_GIDP', 'away_CI', 'away_score', \n",
    "             'home_AB', 'home_H', 'home_2B', 'home_3B', \n",
    "             'home_HR', 'home_SH', 'home_SF', 'home_HBP', \n",
    "             'home_BB', 'home_IBB', 'home_K', 'home_SB', 'home_CS', \n",
    "             'home_GIDP', 'home_CI', 'home_score']]"
   ]
  },
  {
   "cell_type": "code",
   "execution_count": 4,
   "id": "15d925a7",
   "metadata": {},
   "outputs": [],
   "source": [
    "# Ensure no 'na' values\n",
    "data = data.dropna()\n",
    "\n",
    "# Add singles column as specified in our write-up\n",
    "data['away_1B'] = data['away_H'] - data['away_2B'] - data['away_3B'] - data['away_HR']\n",
    "data['home_1B'] = data['home_H'] - data['home_2B'] - data['home_3B'] - data['home_HR']"
   ]
  },
  {
   "cell_type": "code",
   "execution_count": 5,
   "id": "fa4a1d5e",
   "metadata": {},
   "outputs": [],
   "source": [
    "# Combine away and home data columns\n",
    "data2 = pd.DataFrame()\n",
    "\n",
    "data2['AB'] = pd.concat([data['away_AB'], data['home_AB']], ignore_index=True)\n",
    "data2['H'] = pd.concat([data['away_H'], data['home_H']], ignore_index=True)\n",
    "data2['1B'] = pd.concat([data['away_1B'], data['home_1B']], ignore_index=True)\n",
    "data2['2B'] = pd.concat([data['away_2B'], data['home_2B']], ignore_index=True)\n",
    "data2['3B'] = pd.concat([data['away_3B'], data['home_3B']], ignore_index=True)\n",
    "data2['HR'] = pd.concat([data['away_HR'], data['home_HR']], ignore_index=True)\n",
    "data2['SH'] = pd.concat([data['away_SH'], data['home_SH']], ignore_index=True)\n",
    "data2['SF'] = pd.concat([data['away_SF'], data['home_SF']], ignore_index=True)\n",
    "data2['HBP'] = pd.concat([data['away_HBP'], data['home_HBP']], ignore_index=True)\n",
    "data2['BB'] = pd.concat([data['away_BB'], data['home_BB']], ignore_index=True)\n",
    "data2['IBB'] = pd.concat([data['away_IBB'], data['home_IBB']], ignore_index=True)\n",
    "data2['K'] = pd.concat([data['away_K'], data['home_K']], ignore_index=True)\n",
    "data2['SB'] = pd.concat([data['away_SB'], data['home_SB']], ignore_index=True)\n",
    "data2['CS'] = pd.concat([data['away_CS'], data['home_CS']], ignore_index=True)\n",
    "data2['GIDP'] = pd.concat([data['away_GIDP'], data['home_GIDP']], ignore_index=True)\n",
    "data2['CI'] = pd.concat([data['away_CI'], data['home_CI']], ignore_index=True)\n",
    "data2['SCORE'] = pd.concat([data['away_score'], data['home_score']], ignore_index=True)"
   ]
  },
  {
   "cell_type": "code",
   "execution_count": 6,
   "id": "3190dd38",
   "metadata": {},
   "outputs": [],
   "source": [
    "# Split into input and output variables\n",
    "X = data2.drop('SCORE', axis=1)\n",
    "y = data2['SCORE']"
   ]
  },
  {
   "cell_type": "code",
   "execution_count": 7,
   "id": "20436a0e",
   "metadata": {},
   "outputs": [],
   "source": [
    "# Split data into training and test sets\n",
    "from sklearn.model_selection import train_test_split\n",
    "np.random.seed(42)\n",
    "\n",
    "X_train, X_test, y_train, y_test = train_test_split(X, y, test_size=0.2)"
   ]
  },
  {
   "cell_type": "code",
   "execution_count": 8,
   "id": "92744610",
   "metadata": {},
   "outputs": [],
   "source": [
    "# Standardize data\n",
    "from sklearn.preprocessing import StandardScaler\n",
    "scaler = StandardScaler()\n",
    "X_train_scaled = scaler.fit_transform(X_train)\n",
    "X_test_scaled = scaler.transform(X_test)"
   ]
  },
  {
   "cell_type": "markdown",
   "id": "1484aab8",
   "metadata": {},
   "source": [
    "## Perform PLS regression"
   ]
  },
  {
   "cell_type": "code",
   "execution_count": 9,
   "id": "2cb9db96",
   "metadata": {},
   "outputs": [],
   "source": [
    "# Initialize model\n",
    "from sklearn.cross_decomposition import PLSRegression\n",
    "n = 2     # number of components\n",
    "pls_model = PLSRegression(n_components=n)"
   ]
  },
  {
   "cell_type": "code",
   "execution_count": 10,
   "id": "74c71f93",
   "metadata": {},
   "outputs": [],
   "source": [
    "# Train model\n",
    "pls_model.fit(X_train_scaled, y_train);"
   ]
  },
  {
   "cell_type": "code",
   "execution_count": 11,
   "id": "cfab9ce7",
   "metadata": {},
   "outputs": [],
   "source": [
    "# Make predictions\n",
    "y_pred = pls_model.predict(X_test_scaled)"
   ]
  },
  {
   "cell_type": "code",
   "execution_count": 12,
   "id": "f6188c1f",
   "metadata": {},
   "outputs": [
    {
     "name": "stdout",
     "output_type": "stream",
     "text": [
      "MSE: 2.436850688824778\n",
      "Score: -4.57093779576021\n"
     ]
    },
    {
     "name": "stderr",
     "output_type": "stream",
     "text": [
      "C:\\Users\\bodin\\anaconda3\\lib\\site-packages\\sklearn\\base.py:420: UserWarning: X does not have valid feature names, but PLSRegression was fitted with feature names\n",
      "  warnings.warn(\n"
     ]
    }
   ],
   "source": [
    "# Evaluate model\n",
    "from sklearn.metrics import mean_squared_error, accuracy_score\n",
    "mse = mean_squared_error(y_test, y_pred)\n",
    "score = pls_model.score(X_test_scaled, y_test)     #r-squared\n",
    "print(f\"MSE: {mse}\")\n",
    "print(f\"Score: {score}\")"
   ]
  },
  {
   "cell_type": "code",
   "execution_count": 16,
   "id": "08bf0191",
   "metadata": {},
   "outputs": [
    {
     "name": "stdout",
     "output_type": "stream",
     "text": [
      "PLS Regression Coefficients:\n",
      "[[ 0.21158257]\n",
      " [ 0.92430962]\n",
      " [ 0.31528389]\n",
      " [ 0.58525487]\n",
      " [ 0.29477831]\n",
      " [ 1.26723769]\n",
      " [-0.03684185]\n",
      " [ 0.39853624]\n",
      " [ 0.26211649]\n",
      " [ 0.62939149]\n",
      " [-0.09858328]\n",
      " [-0.23190859]\n",
      " [ 0.04850577]\n",
      " [-0.11440936]\n",
      " [-0.24854019]\n",
      " [ 0.04202881]]\n"
     ]
    }
   ],
   "source": [
    "# Display coefficients\n",
    "coefficients = pls_model.coef_\n",
    "print(\"PLS Regression Coefficients:\")\n",
    "print(coefficients)"
   ]
  },
  {
   "cell_type": "code",
   "execution_count": 13,
   "id": "7b5d7c2d",
   "metadata": {},
   "outputs": [
    {
     "data": {
      "image/png": "[encoded data removed]",
      "text/plain": [
       "<Figure size 640x480 with 1 Axes>"
      ]
     },
     "metadata": {},
     "output_type": "display_data"
    }
   ],
   "source": [
    "# Plot predicted vs actual values\n",
    "plt.scatter(y_test, y_pred)\n",
    "plt.xlabel('Actual Values')\n",
    "plt.ylabel('Predicted Values')\n",
    "plt.title('PLS Regression: Actual vs Predicted Values')\n",
    "plt.show()"
   ]
  },
  {
   "cell_type": "markdown",
   "id": "8133debf",
   "metadata": {},
   "source": [
    "### CV to optimize model"
   ]
  },
  {
   "cell_type": "code",
   "execution_count": 19,
   "id": "dee72e30",
   "metadata": {},
   "outputs": [],
   "source": [
    "from sklearn.model_selection import GridSearchCV\n",
    "\n",
    "pls_model = PLSRegression()\n",
    "\n",
    "param_grid = {\n",
    "    'n_components': [1, 2, 3, 4, 5, 6, 7, 8, 9,\n",
    "                    10, 11, 12, 13, 14, 15, 16],  # Example values for the number of components\n",
    "}\n",
    "\n",
    "grid_search = GridSearchCV(pls_model, param_grid, cv=5, scoring='neg_mean_squared_error')"
   ]
  },
  {
   "cell_type": "code",
   "execution_count": 20,
   "id": "b97017d2",
   "metadata": {},
   "outputs": [
    {
     "data": {
      "text/html": [
       "<style>#sk-container-id-1 {color: black;background-color: white;}#sk-container-id-1 pre{padding: 0;}#sk-container-id-1 div.sk-toggleable {background-color: white;}#sk-container-id-1 label.sk-toggleable__label {cursor: pointer;display: block;width: 100%;margin-bottom: 0;padding: 0.3em;box-sizing: border-box;text-align: center;}#sk-container-id-1 label.sk-toggleable__label-arrow:before {content: \"▸\";float: left;margin-right: 0.25em;color: #696969;}#sk-container-id-1 label.sk-toggleable__label-arrow:hover:before {color: black;}#sk-container-id-1 div.sk-estimator:hover label.sk-toggleable__label-arrow:before {color: black;}#sk-container-id-1 div.sk-toggleable__content {max-height: 0;max-width: 0;overflow: hidden;text-align: left;background-color: #f0f8ff;}#sk-container-id-1 div.sk-toggleable__content pre {margin: 0.2em;color: black;border-radius: 0.25em;background-color: #f0f8ff;}#sk-container-id-1 input.sk-toggleable__control:checked~div.sk-toggleable__content {max-height: 200px;max-width: 100%;overflow: auto;}#sk-container-id-1 input.sk-toggleable__control:checked~label.sk-toggleable__label-arrow:before {content: \"▾\";}#sk-container-id-1 div.sk-estimator input.sk-toggleable__control:checked~label.sk-toggleable__label {background-color: #d4ebff;}#sk-container-id-1 div.sk-label input.sk-toggleable__control:checked~label.sk-toggleable__label {background-color: #d4ebff;}#sk-container-id-1 input.sk-hidden--visually {border: 0;clip: rect(1px 1px 1px 1px);clip: rect(1px, 1px, 1px, 1px);height: 1px;margin: -1px;overflow: hidden;padding: 0;position: absolute;width: 1px;}#sk-container-id-1 div.sk-estimator {font-family: monospace;background-color: #f0f8ff;border: 1px dotted black;border-radius: 0.25em;box-sizing: border-box;margin-bottom: 0.5em;}#sk-container-id-1 div.sk-estimator:hover {background-color: #d4ebff;}#sk-container-id-1 div.sk-parallel-item::after {content: \"\";width: 100%;border-bottom: 1px solid gray;flex-grow: 1;}#sk-container-id-1 div.sk-label:hover label.sk-toggleable__label {background-color: #d4ebff;}#sk-container-id-1 div.sk-serial::before {content: \"\";position: absolute;border-left: 1px solid gray;box-sizing: border-box;top: 0;bottom: 0;left: 50%;z-index: 0;}#sk-container-id-1 div.sk-serial {display: flex;flex-direction: column;align-items: center;background-color: white;padding-right: 0.2em;padding-left: 0.2em;position: relative;}#sk-container-id-1 div.sk-item {position: relative;z-index: 1;}#sk-container-id-1 div.sk-parallel {display: flex;align-items: stretch;justify-content: center;background-color: white;position: relative;}#sk-container-id-1 div.sk-item::before, #sk-container-id-1 div.sk-parallel-item::before {content: \"\";position: absolute;border-left: 1px solid gray;box-sizing: border-box;top: 0;bottom: 0;left: 50%;z-index: -1;}#sk-container-id-1 div.sk-parallel-item {display: flex;flex-direction: column;z-index: 1;position: relative;background-color: white;}#sk-container-id-1 div.sk-parallel-item:first-child::after {align-self: flex-end;width: 50%;}#sk-container-id-1 div.sk-parallel-item:last-child::after {align-self: flex-start;width: 50%;}#sk-container-id-1 div.sk-parallel-item:only-child::after {width: 0;}#sk-container-id-1 div.sk-dashed-wrapped {border: 1px dashed gray;margin: 0 0.4em 0.5em 0.4em;box-sizing: border-box;padding-bottom: 0.4em;background-color: white;}#sk-container-id-1 div.sk-label label {font-family: monospace;font-weight: bold;display: inline-block;line-height: 1.2em;}#sk-container-id-1 div.sk-label-container {text-align: center;}#sk-container-id-1 div.sk-container {/* jupyter's `normalize.less` sets `[hidden] { display: none; }` but bootstrap.min.css set `[hidden] { display: none !important; }` so we also need the `!important` here to be able to override the default hidden behavior on the sphinx rendered scikit-learn.org. See: https://github.com/scikit-learn/scikit-learn/issues/21755 */display: inline-block !important;position: relative;}#sk-container-id-1 div.sk-text-repr-fallback {display: none;}</style><div id=\"sk-container-id-1\" class=\"sk-top-container\"><div class=\"sk-text-repr-fallback\"><pre>GridSearchCV(cv=5, estimator=PLSRegression(),\n",
       "             param_grid={&#x27;n_components&#x27;: [1, 2, 3, 4, 5, 6, 7, 8, 9, 10, 11, 12,\n",
       "                                          13, 14, 15, 16]},\n",
       "             scoring=&#x27;neg_mean_squared_error&#x27;)</pre><b>In a Jupyter environment, please rerun this cell to show the HTML representation or trust the notebook. <br />On GitHub, the HTML representation is unable to render, please try loading this page with nbviewer.org.</b></div><div class=\"sk-container\" hidden><div class=\"sk-item sk-dashed-wrapped\"><div class=\"sk-label-container\"><div class=\"sk-label sk-toggleable\"><input class=\"sk-toggleable__control sk-hidden--visually\" id=\"sk-estimator-id-1\" type=\"checkbox\" ><label for=\"sk-estimator-id-1\" class=\"sk-toggleable__label sk-toggleable__label-arrow\">GridSearchCV</label><div class=\"sk-toggleable__content\"><pre>GridSearchCV(cv=5, estimator=PLSRegression(),\n",
       "             param_grid={&#x27;n_components&#x27;: [1, 2, 3, 4, 5, 6, 7, 8, 9, 10, 11, 12,\n",
       "                                          13, 14, 15, 16]},\n",
       "             scoring=&#x27;neg_mean_squared_error&#x27;)</pre></div></div></div><div class=\"sk-parallel\"><div class=\"sk-parallel-item\"><div class=\"sk-item\"><div class=\"sk-label-container\"><div class=\"sk-label sk-toggleable\"><input class=\"sk-toggleable__control sk-hidden--visually\" id=\"sk-estimator-id-2\" type=\"checkbox\" ><label for=\"sk-estimator-id-2\" class=\"sk-toggleable__label sk-toggleable__label-arrow\">estimator: PLSRegression</label><div class=\"sk-toggleable__content\"><pre>PLSRegression()</pre></div></div></div><div class=\"sk-serial\"><div class=\"sk-item\"><div class=\"sk-estimator sk-toggleable\"><input class=\"sk-toggleable__control sk-hidden--visually\" id=\"sk-estimator-id-3\" type=\"checkbox\" ><label for=\"sk-estimator-id-3\" class=\"sk-toggleable__label sk-toggleable__label-arrow\">PLSRegression</label><div class=\"sk-toggleable__content\"><pre>PLSRegression()</pre></div></div></div></div></div></div></div></div></div></div>"
      ],
      "text/plain": [
       "GridSearchCV(cv=5, estimator=PLSRegression(),\n",
       "             param_grid={'n_components': [1, 2, 3, 4, 5, 6, 7, 8, 9, 10, 11, 12,\n",
       "                                          13, 14, 15, 16]},\n",
       "             scoring='neg_mean_squared_error')"
      ]
     },
     "execution_count": 20,
     "metadata": {},
     "output_type": "execute_result"
    }
   ],
   "source": [
    "# Fit the model to the training data\n",
    "grid_search.fit(X_train_scaled, y_train)"
   ]
  },
  {
   "cell_type": "code",
   "execution_count": 21,
   "id": "3347878e",
   "metadata": {},
   "outputs": [
    {
     "name": "stdout",
     "output_type": "stream",
     "text": [
      "Best Parameters: {'n_components': 8}\n",
      "Root Mean Squared Error on Test Set: 1.5078994656694789\n"
     ]
    }
   ],
   "source": [
    "\n",
    "# Get the best parameters and best cross-validated score\n",
    "best_params = grid_search.best_params_\n",
    "print(f'Best Parameters: {best_params}')\n",
    "\n",
    "# Evaluate the model on the test set\n",
    "y_pred = grid_search.predict(X_test_scaled)\n",
    "mse = mean_squared_error(y_test, y_pred)\n",
    "rmse = np.sqrt(mse)\n",
    "print(f'Root Mean Squared Error on Test Set: {rmse}')"
   ]
  },
  {
   "cell_type": "markdown",
   "id": "b08890b6",
   "metadata": {},
   "source": [
    "## Best PLS model"
   ]
  },
  {
   "cell_type": "code",
   "execution_count": 24,
   "id": "0eec1e5a",
   "metadata": {},
   "outputs": [],
   "source": [
    "# Initialize model\n",
    "from sklearn.cross_decomposition import PLSRegression\n",
    "n = 8    # number of components\n",
    "pls_model = PLSRegression(n_components=n)"
   ]
  },
  {
   "cell_type": "code",
   "execution_count": 25,
   "id": "a6383c98",
   "metadata": {},
   "outputs": [],
   "source": [
    "# Train model\n",
    "pls_model.fit(X_train_scaled, y_train);"
   ]
  },
  {
   "cell_type": "code",
   "execution_count": 26,
   "id": "eccdeeca",
   "metadata": {},
   "outputs": [],
   "source": [
    "# Make predictions\n",
    "y_pred = pls_model.predict(X_test_scaled)"
   ]
  },
  {
   "cell_type": "code",
   "execution_count": 27,
   "id": "f92cef74",
   "metadata": {},
   "outputs": [
    {
     "name": "stdout",
     "output_type": "stream",
     "text": [
      "MSE: 2.2737607985662995\n",
      "Score: 0.7762617097640979\n"
     ]
    }
   ],
   "source": [
    "# Evaluate model\n",
    "from sklearn.metrics import mean_squared_error, accuracy_score\n",
    "mse = mean_squared_error(y_test, y_pred)\n",
    "score = pls_model.score(X_test_scaled, y_test)     #r-squared\n",
    "print(f\"MSE: {mse}\")\n",
    "print(f\"Score: {score}\")"
   ]
  },
  {
   "cell_type": "code",
   "execution_count": 28,
   "id": "52f63ed9",
   "metadata": {},
   "outputs": [
    {
     "name": "stdout",
     "output_type": "stream",
     "text": [
      "PLS Regression Coefficients:\n",
      "[[-0.41792762]\n",
      " [ 1.19782163]\n",
      " [ 0.62340406]\n",
      " [ 0.66991588]\n",
      " [ 0.30997799]\n",
      " [ 1.25843222]\n",
      " [-0.04043995]\n",
      " [ 0.26351645]\n",
      " [ 0.23491873]\n",
      " [ 0.71181961]\n",
      " [-0.09601049]\n",
      " [-0.06469049]\n",
      " [ 0.05323452]\n",
      " [-0.16692   ]\n",
      " [-0.32915631]\n",
      " [ 0.03126834]]\n"
     ]
    },
    {
     "name": "stderr",
     "output_type": "stream",
     "text": [
      "C:\\Users\\bodin\\anaconda3\\lib\\site-packages\\sklearn\\cross_decomposition\\_pls.py:503: FutureWarning: The attribute `coef_` will be transposed in version 1.3 to be consistent with other linear models in scikit-learn. Currently, `coef_` has a shape of (n_features, n_targets) and in the future it will have a shape of (n_targets, n_features).\n",
      "  warnings.warn(\n"
     ]
    }
   ],
   "source": [
    "# Display coefficients\n",
    "coefficients = pls_model.coef_\n",
    "print(\"PLS Regression Coefficients:\")\n",
    "print(coefficients)"
   ]
  },
  {
   "cell_type": "code",
   "execution_count": 29,
   "id": "1a08a1c6",
   "metadata": {},
   "outputs": [
    {
     "data": {
      "image/png": "[encoded data removed]",
      "text/plain": [
       "<Figure size 640x480 with 1 Axes>"
      ]
     },
     "metadata": {},
     "output_type": "display_data"
    }
   ],
   "source": [
    "# Plot predicted vs actual values\n",
    "plt.scatter(y_test, y_pred)\n",
    "plt.xlabel('Actual Values')\n",
    "plt.ylabel('Predicted Values')\n",
    "plt.title('PLS Regression: Actual vs Predicted Values')\n",
    "plt.show()"
   ]
  },
  {
   "cell_type": "code",
   "execution_count": null,
   "id": "7a829eae",
   "metadata": {},
   "outputs": [],
   "source": []
  }
 ],
 "metadata": {
  "kernelspec": {
   "display_name": "Python 3 (ipykernel)",
   "language": "python",
   "name": "python3"
  },
  "language_info": {
   "codemirror_mode": {
    "name": "ipython",
    "version": 3
   },
   "file_extension": ".py",
   "mimetype": "text/x-python",
   "name": "python",
   "nbconvert_exporter": "python",
   "pygments_lexer": "ipython3",
   "version": "3.10.9"
  }
 },
 "nbformat": 4,
 "nbformat_minor": 5
}
